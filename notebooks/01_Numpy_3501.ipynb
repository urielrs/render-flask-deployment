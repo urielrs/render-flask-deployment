{
 "cells": [
  {
   "cell_type": "markdown",
   "id": "0009ee68-4aed-4d8b-84fc-618a828cb212",
   "metadata": {},
   "source": [
    "# Introducción a Numpy"
   ]
  },
  {
   "cell_type": "markdown",
   "id": "ebe05e66-a331-4fa8-a458-14ec95d83573",
   "metadata": {},
   "source": [
    "[Numpy](https://numpy.org/doc/stable/) es una libreria para la computación con Python."
   ]
  },
  {
   "cell_type": "markdown",
   "id": "755b288e-a5e9-4aa8-adf5-7928fe3a2c04",
   "metadata": {},
   "source": [
    "* Proporciona Arrays N-Dimensionales.\n",
    "* Implementa funciones matemáticas sofisticadas.\n",
    "* Proporciona herramientas para integrar C/C++ y Fortran.\n",
    "* Proporciona mecanismos para facilitar la realización de las tareas relacionadas con álgebra lineal o numeros aleatorios."
   ]
  },
  {
   "cell_type": "markdown",
   "id": "f949c224-bc50-432e-ab3b-9f8d65d81680",
   "metadata": {},
   "source": [
    "## Imports"
   ]
  },
  {
   "cell_type": "code",
   "execution_count": 1,
   "id": "284aef68-ebdf-488b-a729-ab282a2469d2",
   "metadata": {},
   "outputs": [],
   "source": [
    "import numpy as np"
   ]
  },
  {
   "cell_type": "markdown",
   "id": "eaa322c6-8be8-41e3-96e9-9ddbff99ec0a",
   "metadata": {},
   "source": [
    "## Arrays\n",
    "Un array es una estructura de datos que consiste en una colección de elementos (valores o variables), cada uno identificado por índice o clave. Un array se almacena de modo que la posición de cada elemento se almacene de modo que la posición de cada elemento se pueda calcular a partir de su tupla de índice, mediante una formula matemática. El tipo mas simple de array es un: array lineal, tambien llamado array unidimensional."
   ]
  },
  {
   "cell_type": "markdown",
   "id": "864feb61-5035-4045-933c-b3fa1bfe8382",
   "metadata": {},
   "source": [
    "En Numpy:\n",
    "* Cada dimension se denomina **axis**.\n",
    "* El número de dimensiones se denomina **rank**.\n",
    "* La lista de dimensiones con su correspondiente longitud se denomina **shape**."
   ]
  },
  {
   "cell_type": "code",
   "execution_count": 2,
   "id": "fe098f69-0bf9-49d3-859f-1e80605273f5",
   "metadata": {},
   "outputs": [
    {
     "data": {
      "text/plain": [
       "array([[0., 0., 0., 0.],\n",
       "       [0., 0., 0., 0.]])"
      ]
     },
     "execution_count": 2,
     "metadata": {},
     "output_type": "execute_result"
    }
   ],
   "source": [
    "# Array cuyos valores son todos 0.\n",
    "a = np.zeros((2, 4))\n",
    "a"
   ]
  },
  {
   "cell_type": "markdown",
   "id": "bcde0e67-dde1-484d-9c48-96f9d476cb3b",
   "metadata": {},
   "source": [
    "a es un array:\n",
    "* Con dos **axis**, el primero de longitud 2 y el segundo de longitud 4.\n",
    "* Con un **rank** igual a 2.\n",
    "* Con un **shape** igual (2,4).\n",
    "* Con un **size** igual a 8."
   ]
  },
  {
   "cell_type": "code",
   "execution_count": 3,
   "id": "e68ee8e0-e5ba-4df9-b518-039dd2a2da93",
   "metadata": {},
   "outputs": [
    {
     "data": {
      "text/plain": [
       "(2, 4)"
      ]
     },
     "execution_count": 3,
     "metadata": {},
     "output_type": "execute_result"
    }
   ],
   "source": [
    "a.shape"
   ]
  },
  {
   "cell_type": "code",
   "execution_count": 4,
   "id": "e49b9803-bddf-466e-9c58-0f394f037b71",
   "metadata": {},
   "outputs": [
    {
     "data": {
      "text/plain": [
       "2"
      ]
     },
     "execution_count": 4,
     "metadata": {},
     "output_type": "execute_result"
    }
   ],
   "source": [
    "a.ndim"
   ]
  },
  {
   "cell_type": "code",
   "execution_count": 5,
   "id": "01e653a7-74da-4b8f-b6a8-a64535c51be6",
   "metadata": {},
   "outputs": [
    {
     "data": {
      "text/plain": [
       "8"
      ]
     },
     "execution_count": 5,
     "metadata": {},
     "output_type": "execute_result"
    }
   ],
   "source": [
    "a.size"
   ]
  },
  {
   "cell_type": "markdown",
   "id": "f4a705dd-3860-42e7-a0b6-db38f1a61da2",
   "metadata": {},
   "source": [
    "## Creación de Arrays"
   ]
  },
  {
   "cell_type": "code",
   "execution_count": 6,
   "id": "566a085e-3b27-4fd8-9846-208260df855e",
   "metadata": {},
   "outputs": [
    {
     "data": {
      "text/plain": [
       "array([[[0., 0., 0., 0.],\n",
       "        [0., 0., 0., 0.],\n",
       "        [0., 0., 0., 0.]],\n",
       "\n",
       "       [[0., 0., 0., 0.],\n",
       "        [0., 0., 0., 0.],\n",
       "        [0., 0., 0., 0.]]])"
      ]
     },
     "execution_count": 6,
     "metadata": {},
     "output_type": "execute_result"
    }
   ],
   "source": [
    "# Array cuyos valores son todos 8.\n",
    "np.zeros((2, 3, 4))"
   ]
  },
  {
   "cell_type": "code",
   "execution_count": 7,
   "id": "1e93f2f3-2881-4254-838c-e32d1ce6301b",
   "metadata": {},
   "outputs": [
    {
     "data": {
      "text/plain": [
       "array([[[1., 1., 1., 1.],\n",
       "        [1., 1., 1., 1.],\n",
       "        [1., 1., 1., 1.]],\n",
       "\n",
       "       [[1., 1., 1., 1.],\n",
       "        [1., 1., 1., 1.],\n",
       "        [1., 1., 1., 1.]]])"
      ]
     },
     "execution_count": 7,
     "metadata": {},
     "output_type": "execute_result"
    }
   ],
   "source": [
    "# Array cuyos valores son todos 1.\n",
    "np.ones((2, 3, 4))"
   ]
  },
  {
   "cell_type": "code",
   "execution_count": 8,
   "id": "244aad7f-ccaa-451c-aff0-803e13eda8c3",
   "metadata": {},
   "outputs": [
    {
     "data": {
      "text/plain": [
       "array([[[8, 8, 8, 8],\n",
       "        [8, 8, 8, 8],\n",
       "        [8, 8, 8, 8]],\n",
       "\n",
       "       [[8, 8, 8, 8],\n",
       "        [8, 8, 8, 8],\n",
       "        [8, 8, 8, 8]]])"
      ]
     },
     "execution_count": 8,
     "metadata": {},
     "output_type": "execute_result"
    }
   ],
   "source": [
    "# Array cuyos valores son todos el valor de 8.\n",
    "np.full((2, 3, 4), 8)"
   ]
  },
  {
   "cell_type": "code",
   "execution_count": 9,
   "id": "73801f2f-93a7-4f61-a904-02287e1853f9",
   "metadata": {},
   "outputs": [
    {
     "data": {
      "text/plain": [
       "array([[[ 1.08803774e-316,  0.00000000e+000,  6.86372811e-310,\n",
       "         -7.48345483e+255,  6.86372810e-310,  6.86372811e-310,\n",
       "         -5.34074979e-089,  6.86373712e-310,  6.86372811e-310],\n",
       "        [-8.21736036e+177,  6.86372810e-310,  6.86372811e-310,\n",
       "         -4.94583343e+110,  6.86373712e-310,  6.86372811e-310,\n",
       "          1.13527556e-127,  6.86372810e-310,  6.86372811e-310],\n",
       "        [-6.01883413e-193,  6.86373476e-310,  6.86372811e-310,\n",
       "         -2.05322050e+260,  6.86372810e-310,  6.86372811e-310,\n",
       "         -4.37447526e-307,  6.86373476e-310,  6.86372811e-310]],\n",
       "\n",
       "       [[-3.93226837e-167,  6.86372810e-310,  6.86372811e-310,\n",
       "         -9.41713190e-306,  6.86373476e-310,  6.86372811e-310,\n",
       "          2.12314474e+073,  6.86372811e-310,  6.86372811e-310],\n",
       "        [ 1.41178254e-270,  6.86373476e-310,  6.86372811e-310,\n",
       "          2.70049297e-022,  6.86372811e-310,  6.86372811e-310,\n",
       "         -1.93164913e+227,  6.86372811e-310,  6.86372811e-310],\n",
       "        [ 4.00193173e-322,  1.40507210e-316,  6.86373900e-310,\n",
       "          6.86373888e-310,  6.86373637e-310,  6.86373888e-310,\n",
       "          6.86373889e-310,  6.86372837e-310,  6.86372811e-310]]])"
      ]
     },
     "execution_count": 9,
     "metadata": {},
     "output_type": "execute_result"
    }
   ],
   "source": [
    "# El resultado de np.empty no es predecible \n",
    "# S e inicializa con los valores del array con lo que haya en memoria en ese momento\n",
    "np.empty((2, 3, 9))"
   ]
  },
  {
   "cell_type": "code",
   "execution_count": 10,
   "id": "679bc7f7-7907-4c40-8234-592b5a561837",
   "metadata": {},
   "outputs": [],
   "source": [
    "# Inicializar el array utilizando un array de Python.\n",
    "b = np.array([[1, 2, 3], [4, 5, 6]])"
   ]
  },
  {
   "cell_type": "code",
   "execution_count": 11,
   "id": "b35e15e7-6117-4bde-b262-b90eeb904894",
   "metadata": {},
   "outputs": [
    {
     "data": {
      "text/plain": [
       "(2, 3)"
      ]
     },
     "execution_count": 11,
     "metadata": {},
     "output_type": "execute_result"
    }
   ],
   "source": [
    "b.shape"
   ]
  },
  {
   "cell_type": "code",
   "execution_count": 12,
   "id": "aa51e7e1-7826-4ad2-a920-bda7eee838dd",
   "metadata": {},
   "outputs": [
    {
     "name": "stdout",
     "output_type": "stream",
     "text": [
      "[0.         0.66666667 1.33333333 2.         2.66666667 3.33333333\n",
      " 4.         4.66666667 5.33333333 6.        ]\n"
     ]
    }
   ],
   "source": [
    "# Crear un array utilizando una funcion basada en rangos\n",
    "# (minimo, maximo, número elementos del array)\n",
    "print(np.linspace(0, 6, 10))"
   ]
  },
  {
   "cell_type": "code",
   "execution_count": 13,
   "id": "ff2e45b7-1802-4a3d-8d15-1ef457d74ba9",
   "metadata": {},
   "outputs": [
    {
     "data": {
      "text/plain": [
       "array([[[0.62521652, 0.47012937, 0.84641608, 0.2746346 ],\n",
       "        [0.3620733 , 0.63347134, 0.08864513, 0.40847318],\n",
       "        [0.23028356, 0.46572048, 0.12890979, 0.84376629]],\n",
       "\n",
       "       [[0.80790146, 0.70190795, 0.89456601, 0.01730156],\n",
       "        [0.56436202, 0.43257857, 0.46136368, 0.7062483 ],\n",
       "        [0.75616269, 0.33911213, 0.11888413, 0.3447652 ]]])"
      ]
     },
     "execution_count": 13,
     "metadata": {},
     "output_type": "execute_result"
    }
   ],
   "source": [
    "# Inicializar el array con valores aleatorios.\n",
    "np.random.rand(2, 3, 4)"
   ]
  },
  {
   "cell_type": "code",
   "execution_count": 14,
   "id": "92ffeb58-8700-4622-b7c6-f621c92e9734",
   "metadata": {},
   "outputs": [
    {
     "data": {
      "text/plain": [
       "array([[-0.43173359, -1.16990734, -0.38373785, -1.33216626],\n",
       "       [ 0.72950506,  1.3329568 ,  1.1072323 , -0.64172452]])"
      ]
     },
     "execution_count": 14,
     "metadata": {},
     "output_type": "execute_result"
    }
   ],
   "source": [
    "# Iniciar array con valores aleatorios conforme a una distribución normal.\n",
    "np.random.randn(2, 4)"
   ]
  },
  {
   "cell_type": "code",
   "execution_count": 15,
   "id": "8bbaddbf-6d33-4add-8c3b-716f309dff90",
   "metadata": {},
   "outputs": [
    {
     "data": {
      "image/png": "[encoded data removed]",
      "text/plain": [
       "<Figure size 640x480 with 1 Axes>"
      ]
     },
     "metadata": {},
     "output_type": "display_data"
    }
   ],
   "source": [
    "%matplotlib inline\n",
    "import matplotlib.pyplot as plt\n",
    "\n",
    "c = np.random.randn(10000)\n",
    "plt.hist(c, bins=200)\n",
    "plt.show()"
   ]
  },
  {
   "cell_type": "code",
   "execution_count": 16,
   "id": "3efd6f69-74d0-4946-b4a2-439bfd5eb9ba",
   "metadata": {},
   "outputs": [
    {
     "data": {
      "text/plain": [
       "array([[ 0.,  2.,  4.,  6.,  8.],\n",
       "       [ 1.,  3.,  5.,  7.,  9.],\n",
       "       [ 2.,  4.,  6.,  8., 10.]])"
      ]
     },
     "execution_count": 16,
     "metadata": {},
     "output_type": "execute_result"
    }
   ],
   "source": [
    "# Inicializar un array, utilizando una funcion personalizada\n",
    "def func(x, y):\n",
    "    return x + 2 * y\n",
    "\n",
    "np.fromfunction(func, (3, 5))"
   ]
  },
  {
   "cell_type": "markdown",
   "id": "8b317e9b-d878-4276-9d5b-635371b72f1d",
   "metadata": {},
   "source": [
    "## Acceso a los elementos de un array\n",
    "### Array Unidemensional"
   ]
  },
  {
   "cell_type": "code",
   "execution_count": 17,
   "id": "24695b7b-8880-460a-ab07-5ab9e85c64bf",
   "metadata": {},
   "outputs": [
    {
     "name": "stdout",
     "output_type": "stream",
     "text": [
      "Shape: (6,)\n",
      "Array_uni [ 1  3  5  7  9 11]\n"
     ]
    }
   ],
   "source": [
    "# Acceder a los elementos de un array.\n",
    "array_uni = np.array([1, 3, 5, 7, 9, 11])\n",
    "print(\"Shape:\", array_uni.shape)\n",
    "print(\"Array_uni\", array_uni)"
   ]
  },
  {
   "cell_type": "code",
   "execution_count": 18,
   "id": "1fcfe1ee-48d0-472e-8cc2-fae0e581345a",
   "metadata": {},
   "outputs": [
    {
     "data": {
      "text/plain": [
       "np.int64(9)"
      ]
     },
     "execution_count": 18,
     "metadata": {},
     "output_type": "execute_result"
    }
   ],
   "source": [
    "# Accediendo al quinto elemento del array .\n",
    "array_uni[4]"
   ]
  },
  {
   "cell_type": "code",
   "execution_count": 19,
   "id": "3df6de1a-5e34-4562-9b25-bcd06e082c7f",
   "metadata": {},
   "outputs": [
    {
     "data": {
      "text/plain": [
       "array([5, 7])"
      ]
     },
     "execution_count": 19,
     "metadata": {},
     "output_type": "execute_result"
    }
   ],
   "source": [
    "# Acceder al tercer y cuarto elemento del array.\n",
    "array_uni[2:4]"
   ]
  },
  {
   "cell_type": "markdown",
   "id": "84cfca3e-0fd6-4e88-8a0d-7fbd01be3d3a",
   "metadata": {},
   "source": [
    "### Array Multidimensional."
   ]
  },
  {
   "cell_type": "code",
   "execution_count": 20,
   "id": "388c77bd-eed5-4675-91af-f47c7efb0b88",
   "metadata": {},
   "outputs": [
    {
     "name": "stdout",
     "output_type": "stream",
     "text": [
      "Shape: (2, 4)\n",
      "Array_multi:\n",
      " [[1 2 3 4]\n",
      " [5 6 7 8]]\n"
     ]
    }
   ],
   "source": [
    "# Crear un arraay multidimensional.\n",
    "array_multi = np.array([[1, 2, 3, 4], [5, 6, 7, 8]])\n",
    "print(\"Shape:\", array_multi.shape)\n",
    "print(\"Array_multi:\\n\", array_multi)"
   ]
  },
  {
   "cell_type": "code",
   "execution_count": 21,
   "id": "fef93c6f-844a-449b-b636-c3d4a4670420",
   "metadata": {},
   "outputs": [
    {
     "data": {
      "text/plain": [
       "np.int64(4)"
      ]
     },
     "execution_count": 21,
     "metadata": {},
     "output_type": "execute_result"
    }
   ],
   "source": [
    "# Acceder al cuarto elemento del array\n",
    "array_multi[0, 3]"
   ]
  },
  {
   "cell_type": "code",
   "execution_count": 22,
   "id": "653c8140-2b08-44ab-8bbc-f2fe1bdbc061",
   "metadata": {},
   "outputs": [
    {
     "data": {
      "text/plain": [
       "array([5, 6, 7, 8])"
      ]
     },
     "execution_count": 22,
     "metadata": {},
     "output_type": "execute_result"
    }
   ],
   "source": [
    "# Acceder a la segunda fila fila del array.\n",
    "array_multi[1, :]"
   ]
  },
  {
   "cell_type": "code",
   "execution_count": 23,
   "id": "40cd02db-5653-4bd2-96dc-f512d7a98638",
   "metadata": {},
   "outputs": [
    {
     "data": {
      "text/plain": [
       "array([3, 7])"
      ]
     },
     "execution_count": 23,
     "metadata": {},
     "output_type": "execute_result"
    }
   ],
   "source": [
    "# Accediendo al primer elemento de las dos primeras filas del array\n",
    "array_multi[0:2, 2]"
   ]
  },
  {
   "cell_type": "markdown",
   "id": "2bdd0aed-7273-4010-bfde-9b544688683b",
   "metadata": {},
   "source": [
    "## Modificación de un array"
   ]
  },
  {
   "cell_type": "code",
   "execution_count": 24,
   "id": "4df9edb9-c7f2-4808-91a7-10c980c4539f",
   "metadata": {},
   "outputs": [
    {
     "name": "stdout",
     "output_type": "stream",
     "text": [
      "Shape: (28,)\n",
      "Array:\n",
      " [ 0  1  2  3  4  5  6  7  8  9 10 11 12 13 14 15 16 17 18 19 20 21 22 23\n",
      " 24 25 26 27]\n"
     ]
    }
   ],
   "source": [
    "# Crear un arreglo unidimensional e inicializarlo con un rango de elementos 0-27\n",
    "array1 = np.arange(28)\n",
    "print(\"Shape:\", array1.shape)\n",
    "print(\"Array:\\n\", array1)"
   ]
  },
  {
   "cell_type": "code",
   "execution_count": 25,
   "id": "89c84f3d-8aec-4afd-9d8e-b55d43193774",
   "metadata": {},
   "outputs": [
    {
     "name": "stdout",
     "output_type": "stream",
     "text": [
      "Shape: (7, 4)\n",
      "Array:\n",
      " [[ 0  1  2  3]\n",
      " [ 4  5  6  7]\n",
      " [ 8  9 10 11]\n",
      " [12 13 14 15]\n",
      " [16 17 18 19]\n",
      " [20 21 22 23]\n",
      " [24 25 26 27]]\n"
     ]
    }
   ],
   "source": [
    "# Cambiar las dimensiones del array y sus longitudes.\n",
    "array1.shape = (7, 4)\n",
    "print(\"Shape:\", array1.shape)\n",
    "print(\"Array:\\n\", array1)"
   ]
  },
  {
   "cell_type": "code",
   "execution_count": 26,
   "id": "15061dad-0f97-435a-ba23-8ed7b7a57034",
   "metadata": {},
   "outputs": [
    {
     "name": "stdout",
     "output_type": "stream",
     "text": [
      "Shape: (4, 7)\n",
      "Array:\n",
      " [[ 0  1  2  3  4  5  6]\n",
      " [ 7  8  9 10 11 12 13]\n",
      " [14 15 16 17 18 19 20]\n",
      " [21 22 23 24 25 26 27]]\n"
     ]
    }
   ],
   "source": [
    "# El ejemplo anterior devuelve un array que apunta a los mismos datos.\n",
    "# NOTA: modificaciones en el array, modificaran el otro array.\n",
    "array2 = array1.reshape(4, 7)\n",
    "print(\"Shape:\", array2.shape)\n",
    "print(\"Array:\\n\", array2)"
   ]
  },
  {
   "cell_type": "code",
   "execution_count": 27,
   "id": "87323592-aed6-4961-bbe7-e67836804400",
   "metadata": {},
   "outputs": [
    {
     "name": "stdout",
     "output_type": "stream",
     "text": [
      "Array2:\n",
      " [[ 0  1  2  3  4  5  6]\n",
      " [ 7  8  9 30 11 12 13]\n",
      " [14 15 16 17 18 19 20]\n",
      " [21 22 23 24 25 26 27]]\n"
     ]
    }
   ],
   "source": [
    "# Modificacion del nuevo array devuelto\n",
    "array2[1, 3] = 30\n",
    "print(\"Array2:\\n\", array2)"
   ]
  },
  {
   "cell_type": "code",
   "execution_count": 28,
   "id": "8d8ae1f6-014e-405e-82b9-a38d7bd2caad",
   "metadata": {},
   "outputs": [
    {
     "name": "stdout",
     "output_type": "stream",
     "text": [
      "Array1:\n",
      " [[ 0  1  2  3]\n",
      " [ 4  5  6  7]\n",
      " [ 8  9 30 11]\n",
      " [12 13 14 15]\n",
      " [16 17 18 19]\n",
      " [20 21 22 23]\n",
      " [24 25 26 27]]\n"
     ]
    }
   ],
   "source": [
    "print(\"Array1:\\n\", array1)"
   ]
  },
  {
   "cell_type": "code",
   "execution_count": 29,
   "id": "427e4d0c-25db-4799-bdea-b17d7f549485",
   "metadata": {},
   "outputs": [
    {
     "name": "stdout",
     "output_type": "stream",
     "text": [
      "Array1: [ 0  1  2  3  4  5  6  7  8  9 30 11 12 13 14 15 16 17 18 19 20 21 22 23\n",
      " 24 25 26 27]\n"
     ]
    }
   ],
   "source": [
    "#Devolver el array a su estado original\n",
    "print(\"Array1:\", array1.ravel())"
   ]
  },
  {
   "cell_type": "markdown",
   "id": "774b8f72-e0a4-498f-adfe-ed9cef1dd7a0",
   "metadata": {},
   "source": [
    "## Operaciones Aritméticas con Arrays"
   ]
  },
  {
   "cell_type": "code",
   "execution_count": 30,
   "id": "1be97cb4-a56d-4ab0-a82c-e4c23cf085a8",
   "metadata": {},
   "outputs": [
    {
     "name": "stdout",
     "output_type": "stream",
     "text": [
      "Array1: [ 2  4  6  8 10 12 14 16]\n",
      "Array2: [0 1 2 3 4 5 6 7]\n"
     ]
    }
   ],
   "source": [
    "array1 = np.arange(2, 18, 2)\n",
    "array2 = np.arange(8)\n",
    "print(\"Array1:\", array1)\n",
    "print(\"Array2:\", array2)"
   ]
  },
  {
   "cell_type": "code",
   "execution_count": 31,
   "id": "41964bc6-87a1-4b6f-9378-9ccf101ae689",
   "metadata": {},
   "outputs": [
    {
     "name": "stdout",
     "output_type": "stream",
     "text": [
      "[ 2  5  8 11 14 17 20 23]\n"
     ]
    }
   ],
   "source": [
    "# Suma\n",
    "print(array1 + array2)"
   ]
  },
  {
   "cell_type": "code",
   "execution_count": 32,
   "id": "fa7c7179-fa72-4d5e-9c31-abadbbd83bf9",
   "metadata": {},
   "outputs": [
    {
     "name": "stdout",
     "output_type": "stream",
     "text": [
      "[2 3 4 5 6 7 8 9]\n"
     ]
    }
   ],
   "source": [
    "# Resta\n",
    "print(array1 - array2)"
   ]
  },
  {
   "cell_type": "code",
   "execution_count": 33,
   "id": "b2c4a5f6-b53a-43b8-8de8-cb89fbb5e45b",
   "metadata": {},
   "outputs": [
    {
     "name": "stdout",
     "output_type": "stream",
     "text": [
      "[  0   4  12  24  40  60  84 112]\n"
     ]
    }
   ],
   "source": [
    "# Multiplicación\n",
    "# NOTA: No es una multiplicacion de matrices.\n",
    "print(array1 * array2)"
   ]
  },
  {
   "cell_type": "markdown",
   "id": "fd1fd1c5-a955-46c5-9dfe-e518f801fab9",
   "metadata": {},
   "source": [
    "## Broadcasting\n",
    "Si se aplican operaciones aritméticas sobre arrays que no tienen la misma forma (shape), Numpy aplica una propiedad que se llama Broadcasting."
   ]
  },
  {
   "cell_type": "code",
   "execution_count": 34,
   "id": "cc1813d3-150a-4898-b2df-41f8762306e8",
   "metadata": {},
   "outputs": [
    {
     "name": "stdout",
     "output_type": "stream",
     "text": [
      "Shape: (5,)\n",
      "Array1:\n",
      " [0 1 2 3 4]\n",
      "\n",
      "\n",
      "Shape: (1,)\n",
      "Array2:\n",
      " [3]\n"
     ]
    }
   ],
   "source": [
    "array1 = np.arange(5)\n",
    "array2 = np.array([3])\n",
    "print(\"Shape:\", array1.shape)\n",
    "print(\"Array1:\\n\", array1)\n",
    "print(\"\\n\")\n",
    "print(\"Shape:\", array2.shape)\n",
    "print(\"Array2:\\n\", array2)"
   ]
  },
  {
   "cell_type": "code",
   "execution_count": 35,
   "id": "869052e9-1a67-4819-913b-c6550539de72",
   "metadata": {},
   "outputs": [
    {
     "data": {
      "text/plain": [
       "array([3, 4, 5, 6, 7])"
      ]
     },
     "execution_count": 35,
     "metadata": {},
     "output_type": "execute_result"
    }
   ],
   "source": [
    "# Suma de ambos Arrays\n",
    "array1 + array2"
   ]
  },
  {
   "cell_type": "code",
   "execution_count": 36,
   "id": "ae47d4e5-a4ce-4ac6-983f-d3e93c54e772",
   "metadata": {},
   "outputs": [
    {
     "data": {
      "text/plain": [
       "array([ 0,  3,  6,  9, 12])"
      ]
     },
     "execution_count": 36,
     "metadata": {},
     "output_type": "execute_result"
    }
   ],
   "source": [
    "# Multiplicación\n",
    "array1 * array2"
   ]
  },
  {
   "cell_type": "markdown",
   "id": "e4c00400-5756-4521-8f8b-eff977cf97ea",
   "metadata": {},
   "source": [
    "## Funciones estadisticas sobre Arrays"
   ]
  },
  {
   "cell_type": "code",
   "execution_count": 37,
   "id": "a7906d8e-b9aa-4733-aa8a-827a4c417bbb",
   "metadata": {},
   "outputs": [
    {
     "name": "stdout",
     "output_type": "stream",
     "text": [
      "Array1:\n",
      " [ 1  3  5  7  9 11 13 15 17 19]\n"
     ]
    }
   ],
   "source": [
    "# Creación de un array unidimensional\n",
    "array1 = np.arange(1, 20, 2)\n",
    "print(\"Array1:\\n\", array1)"
   ]
  },
  {
   "cell_type": "code",
   "execution_count": 38,
   "id": "9d1d30dc-063c-4655-baf5-906efe26bc62",
   "metadata": {},
   "outputs": [
    {
     "data": {
      "text/plain": [
       "np.float64(10.0)"
      ]
     },
     "execution_count": 38,
     "metadata": {},
     "output_type": "execute_result"
    }
   ],
   "source": [
    "# Media de los elementos del array\n",
    "array1.mean()"
   ]
  },
  {
   "cell_type": "code",
   "execution_count": 39,
   "id": "dacdbc3d-6eb9-417a-b6c6-1ea1f7ab79b3",
   "metadata": {},
   "outputs": [
    {
     "data": {
      "text/plain": [
       "np.int64(100)"
      ]
     },
     "execution_count": 39,
     "metadata": {},
     "output_type": "execute_result"
    }
   ],
   "source": [
    "# Suma de los elementos del array\n",
    "array1.sum()"
   ]
  },
  {
   "cell_type": "markdown",
   "id": "e92f2459-55f7-427c-b51b-0795161847b0",
   "metadata": {},
   "source": [
    "Funciones universales proporcionadas por numpy: **ufunc**"
   ]
  },
  {
   "cell_type": "code",
   "execution_count": 40,
   "id": "bd52f21c-322d-4873-bd4b-9d5ef8b94041",
   "metadata": {},
   "outputs": [
    {
     "data": {
      "text/plain": [
       "array([  1,   9,  25,  49,  81, 121, 169, 225, 289, 361])"
      ]
     },
     "execution_count": 40,
     "metadata": {},
     "output_type": "execute_result"
    }
   ],
   "source": [
    "# Cuadrado de los elementos del array\n",
    "np.square(array1)"
   ]
  },
  {
   "cell_type": "code",
   "execution_count": 41,
   "id": "eafee03f-abbb-4a11-8928-237d4cffe326",
   "metadata": {},
   "outputs": [
    {
     "data": {
      "text/plain": [
       "array([1.        , 1.73205081, 2.23606798, 2.64575131, 3.        ,\n",
       "       3.31662479, 3.60555128, 3.87298335, 4.12310563, 4.35889894])"
      ]
     },
     "execution_count": 41,
     "metadata": {},
     "output_type": "execute_result"
    }
   ],
   "source": [
    "# Raiz Cuadrada  de los elementos del array.\n",
    "np.sqrt(array1)"
   ]
  },
  {
   "cell_type": "code",
   "execution_count": 42,
   "id": "b740bd4b-8054-4fde-9daf-0c94e71c4a22",
   "metadata": {},
   "outputs": [
    {
     "data": {
      "text/plain": [
       "array([2.71828183e+00, 2.00855369e+01, 1.48413159e+02, 1.09663316e+03,\n",
       "       8.10308393e+03, 5.98741417e+04, 4.42413392e+05, 3.26901737e+06,\n",
       "       2.41549528e+07, 1.78482301e+08])"
      ]
     },
     "execution_count": 42,
     "metadata": {},
     "output_type": "execute_result"
    }
   ],
   "source": [
    "# Exponencial de los elementos del array.\n",
    "np.exp(array1)"
   ]
  },
  {
   "cell_type": "code",
   "execution_count": 43,
   "id": "67de9100-c09c-4b2a-8831-475ed8f8b3d2",
   "metadata": {},
   "outputs": [
    {
     "data": {
      "text/plain": [
       "array([0.        , 1.09861229, 1.60943791, 1.94591015, 2.19722458,\n",
       "       2.39789527, 2.56494936, 2.7080502 , 2.83321334, 2.94443898])"
      ]
     },
     "execution_count": 43,
     "metadata": {},
     "output_type": "execute_result"
    }
   ],
   "source": [
    "# Logaritmo de los elementos del array\n",
    "np.log(array1)"
   ]
  }
 ],
 "metadata": {
  "kernelspec": {
   "display_name": "Python 3 (ipykernel)",
   "language": "python",
   "name": "python3"
  },
  "language_info": {
   "codemirror_mode": {
    "name": "ipython",
    "version": 3
   },
   "file_extension": ".py",
   "mimetype": "text/x-python",
   "name": "python",
   "nbconvert_exporter": "python",
   "pygments_lexer": "ipython3",
   "version": "3.9.19"
  }
 },
 "nbformat": 4,
 "nbformat_minor": 5
}
