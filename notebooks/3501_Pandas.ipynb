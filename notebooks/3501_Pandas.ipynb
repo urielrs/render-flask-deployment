{
 "cells": [
  {
   "cell_type": "markdown",
   "id": "7ea437ed-61c9-46b1-9a5d-9db52afa6da9",
   "metadata": {},
   "source": [
    "# Introducción a Pandas."
   ]
  },
  {
   "cell_type": "markdown",
   "id": "1569b826-3c51-4b54-9678-b63d7028db58",
   "metadata": {},
   "source": [
    "[Pandas](https://pandas.pydata.org/docs/) es una biblioteca que proporciona estructuras de datos y herramientas de analisis de datos de alto rendimiento y faciles de usar.\n",
    "* La estructura de datos principal es el DataFrame que puede considerarse como una tabla 2D en memoria(como una hoja de cálculo, nombres de columna y etiquetas de fila.)\n",
    "* Muchas funciones disponibles en Excel estan disponibles mediante programacion como crear las tablas dinámicas, calcular columnas basadas en otras columnas, trazar gráficos, etc.\n",
    "* Proporciona un alto rendimiento para manipular(unir, dividir, modificar, etc.) grandes volumenes de datos."
   ]
  },
  {
   "cell_type": "markdown",
   "id": "7e42bc28-6ca9-4f30-a8b6-a662f34f1a19",
   "metadata": {},
   "source": [
    "## Import"
   ]
  },
  {
   "cell_type": "code",
   "execution_count": 1,
   "id": "4bee0ab8-e303-46c3-a080-302c872c9a48",
   "metadata": {},
   "outputs": [],
   "source": [
    "import pandas as pd"
   ]
  },
  {
   "cell_type": "markdown",
   "id": "a0a9b87d-ac97-4689-b894-bc1d667facdb",
   "metadata": {},
   "source": [
    "### Estructuras de Datos en Pandas"
   ]
  },
  {
   "cell_type": "markdown",
   "id": "7972f13a-4f9b-4092-acd8-72ab9bea1bea",
   "metadata": {},
   "source": [
    "La biblioteca pandas de manera genérica, contiene las siguientes estructuras de datos:\n",
    "* **Series**: Es un array de una dimension.\n",
    "* **DataFrame**: Se corresponde con una tabla de dos dimensiones.\n",
    "* **Panel**: Es similar a un diccionario de DataFrames."
   ]
  },
  {
   "cell_type": "markdown",
   "id": "ff406a8e-35d9-437f-a756-a1cc5ce1d1dd",
   "metadata": {},
   "source": [
    "### Creación del Objeto Series "
   ]
  },
  {
   "cell_type": "code",
   "execution_count": 2,
   "id": "a828a4cd-53b4-4d5e-879d-98f1346e27d6",
   "metadata": {},
   "outputs": [
    {
     "name": "stdout",
     "output_type": "stream",
     "text": [
      "0     2\n",
      "1     4\n",
      "2     6\n",
      "3     8\n",
      "4    10\n",
      "dtype: int64\n"
     ]
    }
   ],
   "source": [
    "## Creacion del objeto Series\n",
    "s = pd.Series([2, 4, 6, 8, 10])\n",
    "print(s)"
   ]
  },
  {
   "cell_type": "code",
   "execution_count": 3,
   "id": "405c6782-094e-4d8e-95cc-a4f31d906f1b",
   "metadata": {},
   "outputs": [
    {
     "name": "stdout",
     "output_type": "stream",
     "text": [
      "Emilio     169\n",
      "Anel       145\n",
      "Jesus      170\n",
      "Jocelin    170\n",
      "dtype: int64\n"
     ]
    }
   ],
   "source": [
    "# Creacion de un objeto series e inicializarlo con un diccionario de Python.\n",
    "Altura = {\"Emilio\": 169, \"Anel\": 145, \"Jesus\": 170, \"Jocelin\": 170}\n",
    "s = pd.Series(Altura)\n",
    "print(s)"
   ]
  },
  {
   "cell_type": "code",
   "execution_count": 4,
   "id": "90dcaeb0-344b-4981-9116-a071f6a8cc2d",
   "metadata": {},
   "outputs": [
    {
     "name": "stdout",
     "output_type": "stream",
     "text": [
      "Jocelin    170\n",
      "Emilio     169\n",
      "dtype: int64\n"
     ]
    }
   ],
   "source": [
    "# Creacion de un Objeto Series e inicializarlo con algunos elementos del diccionario de Python.\n",
    "Altura = {\"Emilio\": 169, \"Anel\": 145, \"Jesus\": 170, \"Jocelin\": 170}\n",
    "s = pd.Series(Altura, index = [\"Jocelin\", \"Emilio\"])\n",
    "print(s)"
   ]
  },
  {
   "cell_type": "code",
   "execution_count": 5,
   "id": "70273e49-1b91-448e-8646-40023561b41c",
   "metadata": {},
   "outputs": [
    {
     "name": "stdout",
     "output_type": "stream",
     "text": [
      "Num1    34\n",
      "Num2    34\n",
      "Num3    34\n",
      "Num4    34\n",
      "dtype: int64\n"
     ]
    }
   ],
   "source": [
    "# Creacion de un Objeto Series e Inicializarlo con un escalar.\n",
    "s = pd.Series(34, [\"Num1\", \"Num2\", \"Num3\", \"Num4\"])\n",
    "print(s)"
   ]
  },
  {
   "cell_type": "markdown",
   "id": "d3dc3cc6-fccb-479f-b94e-b7e438220bc2",
   "metadata": {},
   "source": [
    "### Acceso a los elementos de un Array\n",
    "Cada elemento en un objeto Series tiene un identoficador que se denomina **indexlabel**. "
   ]
  },
  {
   "cell_type": "code",
   "execution_count": 6,
   "id": "8de8fbef-6466-4608-920d-d862a8850b03",
   "metadata": {},
   "outputs": [
    {
     "name": "stdout",
     "output_type": "stream",
     "text": [
      "Num1    2\n",
      "Num2    4\n",
      "Num3    6\n",
      "Num4    8\n",
      "dtype: int64\n"
     ]
    }
   ],
   "source": [
    "# Crear un objeto Series\n",
    "s = pd.Series([2, 4, 6, 8], index=[\"Num1\", \"Num2\", \"Num3\", \"Num4\"])\n",
    "print(s)"
   ]
  },
  {
   "cell_type": "code",
   "execution_count": 7,
   "id": "902e1d51-d98a-4dd7-8a1e-daf8cdfa0da7",
   "metadata": {},
   "outputs": [
    {
     "data": {
      "text/plain": [
       "np.int64(6)"
      ]
     },
     "execution_count": 7,
     "metadata": {},
     "output_type": "execute_result"
    }
   ],
   "source": [
    "# Acceder al tercer elemento del objeto\n",
    "s[\"Num3\"]"
   ]
  },
  {
   "cell_type": "code",
   "execution_count": 8,
   "id": "c4a6b3bb-b308-4ab5-9052-2b4b863f6617",
   "metadata": {},
   "outputs": [
    {
     "name": "stderr",
     "output_type": "stream",
     "text": [
      "/tmp/ipykernel_6169/1943774452.py:2: FutureWarning: Series.__getitem__ treating keys as positions is deprecated. In a future version, integer keys will always be treated as labels (consistent with DataFrame behavior). To access a value by position, use `ser.iloc[pos]`\n",
      "  s[2]\n"
     ]
    },
    {
     "data": {
      "text/plain": [
       "np.int64(6)"
      ]
     },
     "execution_count": 8,
     "metadata": {},
     "output_type": "execute_result"
    }
   ],
   "source": [
    "# Tambien se puede acceder por posición\n",
    "s[2]"
   ]
  },
  {
   "cell_type": "code",
   "execution_count": 9,
   "id": "0dc2c221-7d44-49f2-8774-580710667b96",
   "metadata": {},
   "outputs": [
    {
     "data": {
      "text/plain": [
       "np.int64(6)"
      ]
     },
     "execution_count": 9,
     "metadata": {},
     "output_type": "execute_result"
    }
   ],
   "source": [
    "# loc es la forma estandar de acceder a un elemento de un objeto Series \n",
    "s.loc[\"Num3\"]"
   ]
  },
  {
   "cell_type": "code",
   "execution_count": 10,
   "id": "fde7d310-a392-4ff8-8320-a951d0833f5d",
   "metadata": {},
   "outputs": [
    {
     "data": {
      "text/plain": [
       "np.int64(6)"
      ]
     },
     "execution_count": 10,
     "metadata": {},
     "output_type": "execute_result"
    }
   ],
   "source": [
    "# iloc s la forma estandar de acceder a un elemento de un objeto por posición\n",
    "s.iloc[2]"
   ]
  },
  {
   "cell_type": "code",
   "execution_count": 11,
   "id": "c61041af-72d7-410d-b76f-b81e85320cc0",
   "metadata": {},
   "outputs": [
    {
     "data": {
      "text/plain": [
       "Num3    6\n",
       "Num4    8\n",
       "dtype: int64"
      ]
     },
     "execution_count": 11,
     "metadata": {},
     "output_type": "execute_result"
    }
   ],
   "source": [
    "# Accediendo al segundo y tercer elemento por posicion \n",
    "s.iloc[2:4]"
   ]
  },
  {
   "cell_type": "markdown",
   "id": "240b435c-9617-4429-9db0-0d8fb06be18f",
   "metadata": {},
   "source": [
    "## Operaciones Aritmeticas con Series"
   ]
  },
  {
   "cell_type": "code",
   "execution_count": 12,
   "id": "e486e944-a47b-4142-97c0-52e089392d4f",
   "metadata": {},
   "outputs": [
    {
     "name": "stdout",
     "output_type": "stream",
     "text": [
      "0     2\n",
      "1     4\n",
      "2     6\n",
      "3     8\n",
      "4    10\n",
      "dtype: int64\n"
     ]
    }
   ],
   "source": [
    "# Crear un objeto Series\n",
    "s = pd.Series([2, 4, 6, 8, 10])\n",
    "print(s)"
   ]
  },
  {
   "cell_type": "code",
   "execution_count": 13,
   "id": "7dee0493-f7d6-4bba-9961-6745162f8445",
   "metadata": {},
   "outputs": [
    {
     "data": {
      "text/plain": [
       "np.int64(30)"
      ]
     },
     "execution_count": 13,
     "metadata": {},
     "output_type": "execute_result"
    }
   ],
   "source": [
    "# los objetos Series son similares y compatibles con los Arrays  de Numpy.\n",
    "import numpy as np\n",
    "# ufunc de Numpy para sumar los elementos.\n",
    "np.sum(s)"
   ]
  },
  {
   "cell_type": "code",
   "execution_count": 14,
   "id": "f0997fae-4e73-4a64-a337-b7b7a4a2af55",
   "metadata": {},
   "outputs": [
    {
     "data": {
      "text/plain": [
       "0     4\n",
       "1     8\n",
       "2    12\n",
       "3    16\n",
       "4    20\n",
       "dtype: int64"
      ]
     },
     "execution_count": 14,
     "metadata": {},
     "output_type": "execute_result"
    }
   ],
   "source": [
    "s *2"
   ]
  },
  {
   "cell_type": "markdown",
   "id": "4137c24d-44c1-4209-bf03-c2398c0204f0",
   "metadata": {},
   "source": [
    "### Representación gráfica de un objeto Series"
   ]
  },
  {
   "cell_type": "code",
   "execution_count": 15,
   "id": "1456a427-2f3c-498c-9318-1aa35a33b11a",
   "metadata": {},
   "outputs": [
    {
     "data": {
      "text/plain": [
       "0     4.4\n",
       "1     5.1\n",
       "2     6.1\n",
       "3     6.2\n",
       "4     6.1\n",
       "5     6.1\n",
       "6     5.7\n",
       "7     5.2\n",
       "8     4.7\n",
       "9     4.1\n",
       "10    3.9\n",
       "Name: Temperaturas, dtype: float64"
      ]
     },
     "execution_count": 15,
     "metadata": {},
     "output_type": "execute_result"
    }
   ],
   "source": [
    "# Crear un objeto Series denominado Temperaturas.\n",
    "Temperaturas = [4.4, 5.1, 6.1, 6.2, 6.1, 6.1, 5.7, 5.2, 4.7, 4.1, 3.9]\n",
    "s = pd.Series(Temperaturas, name=\"Temperaturas\")\n",
    "s"
   ]
  },
  {
   "cell_type": "code",
   "execution_count": 16,
   "id": "7d0bb3f4-b8d1-4a10-8279-9ea6f6050834",
   "metadata": {},
   "outputs": [
    {
     "data": {
      "image/png": "[encoded data removed]",
      "text/plain": [
       "<Figure size 640x480 with 1 Axes>"
      ]
     },
     "metadata": {},
     "output_type": "display_data"
    }
   ],
   "source": [
    "# Representacion gráfica del objeto Series.\n",
    "%matplotlib inline\n",
    "import matplotlib.pyplot as plt\n",
    "\n",
    "s.plot()\n",
    "plt.show()"
   ]
  },
  {
   "cell_type": "markdown",
   "id": "ae050ba3-c770-454a-bbbf-c0937daefd07",
   "metadata": {},
   "source": [
    "## Creacion de un objeto DataFrame."
   ]
  },
  {
   "cell_type": "code",
   "execution_count": 17,
   "id": "c68e7505-44e6-4b4c-a619-911846d4ccde",
   "metadata": {},
   "outputs": [
    {
     "data": {
      "text/html": [
       "<div>\n",
       "<style scoped>\n",
       "    .dataframe tbody tr th:only-of-type {\n",
       "        vertical-align: middle;\n",
       "    }\n",
       "\n",
       "    .dataframe tbody tr th {\n",
       "        vertical-align: top;\n",
       "    }\n",
       "\n",
       "    .dataframe thead th {\n",
       "        text-align: right;\n",
       "    }\n",
       "</style>\n",
       "<table border=\"1\" class=\"dataframe\">\n",
       "  <thead>\n",
       "    <tr style=\"text-align: right;\">\n",
       "      <th></th>\n",
       "      <th>Peso</th>\n",
       "      <th>Altura</th>\n",
       "      <th>Mascotas</th>\n",
       "    </tr>\n",
       "  </thead>\n",
       "  <tbody>\n",
       "    <tr>\n",
       "      <th>Anel</th>\n",
       "      <td>60</td>\n",
       "      <td>145</td>\n",
       "      <td>2.0</td>\n",
       "    </tr>\n",
       "    <tr>\n",
       "      <th>Emilio</th>\n",
       "      <td>72</td>\n",
       "      <td>169</td>\n",
       "      <td>NaN</td>\n",
       "    </tr>\n",
       "    <tr>\n",
       "      <th>Jesus</th>\n",
       "      <td>74</td>\n",
       "      <td>170</td>\n",
       "      <td>NaN</td>\n",
       "    </tr>\n",
       "    <tr>\n",
       "      <th>Jocelin</th>\n",
       "      <td>73</td>\n",
       "      <td>170</td>\n",
       "      <td>9.0</td>\n",
       "    </tr>\n",
       "  </tbody>\n",
       "</table>\n",
       "</div>"
      ],
      "text/plain": [
       "         Peso  Altura  Mascotas\n",
       "Anel       60     145       2.0\n",
       "Emilio     72     169       NaN\n",
       "Jesus      74     170       NaN\n",
       "Jocelin    73     170       9.0"
      ]
     },
     "execution_count": 17,
     "metadata": {},
     "output_type": "execute_result"
    }
   ],
   "source": [
    "# Creación de un DataFrame e Inicializarlo con un un Diccionario de objetos Series\n",
    "Personas = {\n",
    "\n",
    "    \"Peso\": pd.Series([72, 60, 74, 73], [\"Emilio\", \"Anel\", \"Jesus\", \"Jocelin\"]),\n",
    "    \"Altura\": pd.Series({\"Emilio\": 169, \"Anel\": 145, \"Jesus\": 170, \"Jocelin\": 170}),\n",
    "    \"Mascotas\": pd.Series([2, 9], [\"Anel\", \"Jocelin\"]) \n",
    "}\n",
    "\n",
    "df = pd.DataFrame(Personas)\n",
    "df"
   ]
  },
  {
   "cell_type": "markdown",
   "id": "1f907372-25f6-45d8-8e82-536c97021d53",
   "metadata": {},
   "source": [
    "Es posible forzar el DataFrame a que presente determinadas columnas y en orden determinado"
   ]
  },
  {
   "cell_type": "code",
   "execution_count": 18,
   "id": "7248a730-8070-4a84-85bc-ea79b9960318",
   "metadata": {},
   "outputs": [
    {
     "data": {
      "text/html": [
       "<div>\n",
       "<style scoped>\n",
       "    .dataframe tbody tr th:only-of-type {\n",
       "        vertical-align: middle;\n",
       "    }\n",
       "\n",
       "    .dataframe tbody tr th {\n",
       "        vertical-align: top;\n",
       "    }\n",
       "\n",
       "    .dataframe thead th {\n",
       "        text-align: right;\n",
       "    }\n",
       "</style>\n",
       "<table border=\"1\" class=\"dataframe\">\n",
       "  <thead>\n",
       "    <tr style=\"text-align: right;\">\n",
       "      <th></th>\n",
       "      <th>Altura</th>\n",
       "      <th>Peso</th>\n",
       "    </tr>\n",
       "  </thead>\n",
       "  <tbody>\n",
       "    <tr>\n",
       "      <th>Jesus</th>\n",
       "      <td>170</td>\n",
       "      <td>74</td>\n",
       "    </tr>\n",
       "    <tr>\n",
       "      <th>Emilio</th>\n",
       "      <td>169</td>\n",
       "      <td>72</td>\n",
       "    </tr>\n",
       "  </tbody>\n",
       "</table>\n",
       "</div>"
      ],
      "text/plain": [
       "        Altura  Peso\n",
       "Jesus      170    74\n",
       "Emilio     169    72"
      ]
     },
     "execution_count": 18,
     "metadata": {},
     "output_type": "execute_result"
    }
   ],
   "source": [
    "Personas = {\n",
    "\n",
    "    \"Peso\": pd.Series([72, 60, 74, 73], [\"Emilio\", \"Anel\", \"Jesus\", \"Jocelin\"]),\n",
    "    \"Altura\": pd.Series({\"Emilio\": 169, \"Anel\": 145, \"Jesus\": 170, \"Jocelin\": 170}),\n",
    "    \"Mascotas\": pd.Series([2, 9], [\"Anel\", \"Jocelin\"]) \n",
    "}\n",
    "\n",
    "df = pd.DataFrame(\n",
    "\n",
    "    Personas,\n",
    "    columns = [\"Altura\", \"Peso\"],\n",
    "    index = [\"Jesus\", \"Emilio\"])\n",
    "\n",
    "df"
   ]
  },
  {
   "cell_type": "code",
   "execution_count": 19,
   "id": "01f9abc9-e756-4b85-8a63-14318151f9a1",
   "metadata": {},
   "outputs": [
    {
     "data": {
      "text/html": [
       "<div>\n",
       "<style scoped>\n",
       "    .dataframe tbody tr th:only-of-type {\n",
       "        vertical-align: middle;\n",
       "    }\n",
       "\n",
       "    .dataframe tbody tr th {\n",
       "        vertical-align: top;\n",
       "    }\n",
       "\n",
       "    .dataframe thead th {\n",
       "        text-align: right;\n",
       "    }\n",
       "</style>\n",
       "<table border=\"1\" class=\"dataframe\">\n",
       "  <thead>\n",
       "    <tr style=\"text-align: right;\">\n",
       "      <th></th>\n",
       "      <th>Altura</th>\n",
       "      <th>Mascotas</th>\n",
       "      <th>Peso</th>\n",
       "    </tr>\n",
       "  </thead>\n",
       "  <tbody>\n",
       "    <tr>\n",
       "      <th>Jocelin</th>\n",
       "      <td>169</td>\n",
       "      <td>3</td>\n",
       "      <td>72</td>\n",
       "    </tr>\n",
       "    <tr>\n",
       "      <th>Emilio</th>\n",
       "      <td>145</td>\n",
       "      <td>2</td>\n",
       "      <td>60</td>\n",
       "    </tr>\n",
       "    <tr>\n",
       "      <th>Anel</th>\n",
       "      <td>170</td>\n",
       "      <td>1</td>\n",
       "      <td>74</td>\n",
       "    </tr>\n",
       "  </tbody>\n",
       "</table>\n",
       "</div>"
      ],
      "text/plain": [
       "         Altura  Mascotas  Peso\n",
       "Jocelin     169         3    72\n",
       "Emilio      145         2    60\n",
       "Anel        170         1    74"
      ]
     },
     "execution_count": 19,
     "metadata": {},
     "output_type": "execute_result"
    }
   ],
   "source": [
    "# Creacion de un DataFrame e Inicializarlo con una lista de listas de Python.\n",
    "# NOTA: Deben especificarse las columnas e indices por separado.\n",
    "Valores = [\n",
    "    [169, 3, 72],\n",
    "    [145, 2, 60],\n",
    "    [170, 1, 74]\n",
    "\n",
    "]\n",
    "\n",
    "df = pd.DataFrame(\n",
    "    Valores,\n",
    "    columns = [\"Altura\", \"Mascotas\", \"Peso\"],\n",
    "    index = [\"Jocelin\", \"Emilio\", \"Anel\"]\n",
    ")\n",
    "df"
   ]
  },
  {
   "cell_type": "code",
   "execution_count": 20,
   "id": "e8502421-2b77-42cc-93d9-cb1176cae1c1",
   "metadata": {},
   "outputs": [
    {
     "data": {
      "text/html": [
       "<div>\n",
       "<style scoped>\n",
       "    .dataframe tbody tr th:only-of-type {\n",
       "        vertical-align: middle;\n",
       "    }\n",
       "\n",
       "    .dataframe tbody tr th {\n",
       "        vertical-align: top;\n",
       "    }\n",
       "\n",
       "    .dataframe thead th {\n",
       "        text-align: right;\n",
       "    }\n",
       "</style>\n",
       "<table border=\"1\" class=\"dataframe\">\n",
       "  <thead>\n",
       "    <tr style=\"text-align: right;\">\n",
       "      <th></th>\n",
       "      <th>Peso</th>\n",
       "      <th>Altura</th>\n",
       "    </tr>\n",
       "  </thead>\n",
       "  <tbody>\n",
       "    <tr>\n",
       "      <th>Emilio</th>\n",
       "      <td>72</td>\n",
       "      <td>169</td>\n",
       "    </tr>\n",
       "    <tr>\n",
       "      <th>Anel</th>\n",
       "      <td>60</td>\n",
       "      <td>145</td>\n",
       "    </tr>\n",
       "    <tr>\n",
       "      <th>Jesus</th>\n",
       "      <td>74</td>\n",
       "      <td>170</td>\n",
       "    </tr>\n",
       "    <tr>\n",
       "      <th>Jocelin</th>\n",
       "      <td>73</td>\n",
       "      <td>170</td>\n",
       "    </tr>\n",
       "  </tbody>\n",
       "</table>\n",
       "</div>"
      ],
      "text/plain": [
       "         Peso  Altura\n",
       "Emilio     72     169\n",
       "Anel       60     145\n",
       "Jesus      74     170\n",
       "Jocelin    73     170"
      ]
     },
     "execution_count": 20,
     "metadata": {},
     "output_type": "execute_result"
    }
   ],
   "source": [
    "# Creación de un DataFrame e inicializarlo con direccionario de Python.\n",
    "Personas =  {\n",
    "    \"Peso\": {\"Emilio\": 72, \"Anel\": 60, \"Jesus\": 74, \"Jocelin\": 73},\n",
    "    \"Altura\":{\"Emilio\": 169, \"Anel\": 145, \"Jesus\": 170, \"Jocelin\": 170}}\n",
    "\n",
    "df = pd.DataFrame(Personas)\n",
    "df"
   ]
  },
  {
   "cell_type": "markdown",
   "id": "cccef881-cd99-4179-bbb0-a0e9cb92e8a0",
   "metadata": {},
   "source": [
    "## Acceso a los elementos de un DataFrame"
   ]
  },
  {
   "cell_type": "code",
   "execution_count": 21,
   "id": "646f2d65-9492-42c6-b53c-e8711c9b8b1f",
   "metadata": {},
   "outputs": [
    {
     "data": {
      "text/html": [
       "<div>\n",
       "<style scoped>\n",
       "    .dataframe tbody tr th:only-of-type {\n",
       "        vertical-align: middle;\n",
       "    }\n",
       "\n",
       "    .dataframe tbody tr th {\n",
       "        vertical-align: top;\n",
       "    }\n",
       "\n",
       "    .dataframe thead th {\n",
       "        text-align: right;\n",
       "    }\n",
       "</style>\n",
       "<table border=\"1\" class=\"dataframe\">\n",
       "  <thead>\n",
       "    <tr style=\"text-align: right;\">\n",
       "      <th></th>\n",
       "      <th>Peso</th>\n",
       "      <th>Altura</th>\n",
       "      <th>Mascotas</th>\n",
       "    </tr>\n",
       "  </thead>\n",
       "  <tbody>\n",
       "    <tr>\n",
       "      <th>Anel</th>\n",
       "      <td>60</td>\n",
       "      <td>145</td>\n",
       "      <td>2.0</td>\n",
       "    </tr>\n",
       "    <tr>\n",
       "      <th>Emilio</th>\n",
       "      <td>72</td>\n",
       "      <td>169</td>\n",
       "      <td>NaN</td>\n",
       "    </tr>\n",
       "    <tr>\n",
       "      <th>Jesus</th>\n",
       "      <td>74</td>\n",
       "      <td>170</td>\n",
       "      <td>NaN</td>\n",
       "    </tr>\n",
       "    <tr>\n",
       "      <th>Jocelin</th>\n",
       "      <td>73</td>\n",
       "      <td>170</td>\n",
       "      <td>9.0</td>\n",
       "    </tr>\n",
       "  </tbody>\n",
       "</table>\n",
       "</div>"
      ],
      "text/plain": [
       "         Peso  Altura  Mascotas\n",
       "Anel       60     145       2.0\n",
       "Emilio     72     169       NaN\n",
       "Jesus      74     170       NaN\n",
       "Jocelin    73     170       9.0"
      ]
     },
     "execution_count": 21,
     "metadata": {},
     "output_type": "execute_result"
    }
   ],
   "source": [
    "# Creacion de un DataFrame e Inicializarlo con un diccionario de Python.\n",
    "Personas = {\n",
    "\n",
    "    \"Peso\": pd.Series([72, 60, 74, 73], [\"Emilio\", \"Anel\", \"Jesus\", \"Jocelin\"]),\n",
    "    \"Altura\": pd.Series({\"Emilio\": 169, \"Anel\": 145, \"Jesus\": 170, \"Jocelin\": 170}),\n",
    "    \"Mascotas\": pd.Series([2, 9], [\"Anel\", \"Jocelin\"]) \n",
    "}\n",
    "\n",
    "df = pd.DataFrame(Personas)\n",
    "df"
   ]
  },
  {
   "cell_type": "markdown",
   "id": "30093f83-d69e-436f-89a3-2694518aa53a",
   "metadata": {},
   "source": [
    "## Acceso a los elementos de las columnas del DataFrame"
   ]
  },
  {
   "cell_type": "code",
   "execution_count": 22,
   "id": "b27578e3-8f5b-4608-a8e4-ce7ae5c52987",
   "metadata": {},
   "outputs": [
    {
     "data": {
      "text/plain": [
       "Anel       60\n",
       "Emilio     72\n",
       "Jesus      74\n",
       "Jocelin    73\n",
       "Name: Peso, dtype: int64"
      ]
     },
     "execution_count": 22,
     "metadata": {},
     "output_type": "execute_result"
    }
   ],
   "source": [
    "df[\"Peso\"]"
   ]
  },
  {
   "cell_type": "code",
   "execution_count": 23,
   "id": "3350b602-5634-4b23-a677-4888538c186f",
   "metadata": {},
   "outputs": [
    {
     "data": {
      "text/html": [
       "<div>\n",
       "<style scoped>\n",
       "    .dataframe tbody tr th:only-of-type {\n",
       "        vertical-align: middle;\n",
       "    }\n",
       "\n",
       "    .dataframe tbody tr th {\n",
       "        vertical-align: top;\n",
       "    }\n",
       "\n",
       "    .dataframe thead th {\n",
       "        text-align: right;\n",
       "    }\n",
       "</style>\n",
       "<table border=\"1\" class=\"dataframe\">\n",
       "  <thead>\n",
       "    <tr style=\"text-align: right;\">\n",
       "      <th></th>\n",
       "      <th>Peso</th>\n",
       "      <th>Altura</th>\n",
       "    </tr>\n",
       "  </thead>\n",
       "  <tbody>\n",
       "    <tr>\n",
       "      <th>Anel</th>\n",
       "      <td>60</td>\n",
       "      <td>145</td>\n",
       "    </tr>\n",
       "    <tr>\n",
       "      <th>Emilio</th>\n",
       "      <td>72</td>\n",
       "      <td>169</td>\n",
       "    </tr>\n",
       "    <tr>\n",
       "      <th>Jesus</th>\n",
       "      <td>74</td>\n",
       "      <td>170</td>\n",
       "    </tr>\n",
       "    <tr>\n",
       "      <th>Jocelin</th>\n",
       "      <td>73</td>\n",
       "      <td>170</td>\n",
       "    </tr>\n",
       "  </tbody>\n",
       "</table>\n",
       "</div>"
      ],
      "text/plain": [
       "         Peso  Altura\n",
       "Anel       60     145\n",
       "Emilio     72     169\n",
       "Jesus      74     170\n",
       "Jocelin    73     170"
      ]
     },
     "execution_count": 23,
     "metadata": {},
     "output_type": "execute_result"
    }
   ],
   "source": [
    "df[[\"Peso\", \"Altura\"]]"
   ]
  },
  {
   "cell_type": "code",
   "execution_count": 24,
   "id": "85b3140b-a186-41bd-9c18-9a2a2adb3025",
   "metadata": {},
   "outputs": [
    {
     "data": {
      "text/plain": [
       "Anel       False\n",
       "Emilio     False\n",
       "Jesus       True\n",
       "Jocelin    False\n",
       "Name: Peso, dtype: bool"
      ]
     },
     "execution_count": 24,
     "metadata": {},
     "output_type": "execute_result"
    }
   ],
   "source": [
    "# Pueden combinarse los elementos anteriores con expresiones boolenas\n",
    "df[\"Peso\"] > 73"
   ]
  },
  {
   "cell_type": "code",
   "execution_count": 25,
   "id": "e954b07f-c3e1-4657-8fa7-6453ed3a62f6",
   "metadata": {},
   "outputs": [
    {
     "data": {
      "text/html": [
       "<div>\n",
       "<style scoped>\n",
       "    .dataframe tbody tr th:only-of-type {\n",
       "        vertical-align: middle;\n",
       "    }\n",
       "\n",
       "    .dataframe tbody tr th {\n",
       "        vertical-align: top;\n",
       "    }\n",
       "\n",
       "    .dataframe thead th {\n",
       "        text-align: right;\n",
       "    }\n",
       "</style>\n",
       "<table border=\"1\" class=\"dataframe\">\n",
       "  <thead>\n",
       "    <tr style=\"text-align: right;\">\n",
       "      <th></th>\n",
       "      <th>Peso</th>\n",
       "      <th>Altura</th>\n",
       "      <th>Mascotas</th>\n",
       "    </tr>\n",
       "  </thead>\n",
       "  <tbody>\n",
       "    <tr>\n",
       "      <th>Jesus</th>\n",
       "      <td>74</td>\n",
       "      <td>170</td>\n",
       "      <td>NaN</td>\n",
       "    </tr>\n",
       "    <tr>\n",
       "      <th>Jocelin</th>\n",
       "      <td>73</td>\n",
       "      <td>170</td>\n",
       "      <td>9.0</td>\n",
       "    </tr>\n",
       "  </tbody>\n",
       "</table>\n",
       "</div>"
      ],
      "text/plain": [
       "         Peso  Altura  Mascotas\n",
       "Jesus      74     170       NaN\n",
       "Jocelin    73     170       9.0"
      ]
     },
     "execution_count": 25,
     "metadata": {},
     "output_type": "execute_result"
    }
   ],
   "source": [
    "# Pueden combinarse los metodos anteriores con expresiones boolenas y mostrar el DataFrame\n",
    "df[df[\"Peso\"] > 72]"
   ]
  },
  {
   "cell_type": "markdown",
   "id": "5968ae28-2d02-4e76-ba2a-40013b0a8405",
   "metadata": {},
   "source": [
    "## Accediendo a los elementos de las filas del DataFrame"
   ]
  },
  {
   "cell_type": "code",
   "execution_count": 26,
   "id": "ccc80986-9716-4725-b0db-2972fdaf5679",
   "metadata": {},
   "outputs": [
    {
     "data": {
      "text/html": [
       "<div>\n",
       "<style scoped>\n",
       "    .dataframe tbody tr th:only-of-type {\n",
       "        vertical-align: middle;\n",
       "    }\n",
       "\n",
       "    .dataframe tbody tr th {\n",
       "        vertical-align: top;\n",
       "    }\n",
       "\n",
       "    .dataframe thead th {\n",
       "        text-align: right;\n",
       "    }\n",
       "</style>\n",
       "<table border=\"1\" class=\"dataframe\">\n",
       "  <thead>\n",
       "    <tr style=\"text-align: right;\">\n",
       "      <th></th>\n",
       "      <th>Peso</th>\n",
       "      <th>Altura</th>\n",
       "      <th>Mascotas</th>\n",
       "    </tr>\n",
       "  </thead>\n",
       "  <tbody>\n",
       "    <tr>\n",
       "      <th>Anel</th>\n",
       "      <td>60</td>\n",
       "      <td>145</td>\n",
       "      <td>2.0</td>\n",
       "    </tr>\n",
       "    <tr>\n",
       "      <th>Emilio</th>\n",
       "      <td>72</td>\n",
       "      <td>169</td>\n",
       "      <td>NaN</td>\n",
       "    </tr>\n",
       "    <tr>\n",
       "      <th>Jesus</th>\n",
       "      <td>74</td>\n",
       "      <td>170</td>\n",
       "      <td>NaN</td>\n",
       "    </tr>\n",
       "    <tr>\n",
       "      <th>Jocelin</th>\n",
       "      <td>73</td>\n",
       "      <td>170</td>\n",
       "      <td>9.0</td>\n",
       "    </tr>\n",
       "  </tbody>\n",
       "</table>\n",
       "</div>"
      ],
      "text/plain": [
       "         Peso  Altura  Mascotas\n",
       "Anel       60     145       2.0\n",
       "Emilio     72     169       NaN\n",
       "Jesus      74     170       NaN\n",
       "Jocelin    73     170       9.0"
      ]
     },
     "execution_count": 26,
     "metadata": {},
     "output_type": "execute_result"
    }
   ],
   "source": [
    "# Mostrar el DataFrame \n",
    "df"
   ]
  },
  {
   "cell_type": "code",
   "execution_count": 27,
   "id": "2c0fcdb2-56a4-4e34-9b8f-7a1eb7862a82",
   "metadata": {},
   "outputs": [
    {
     "data": {
      "text/plain": [
       "Peso         72.0\n",
       "Altura      169.0\n",
       "Mascotas      NaN\n",
       "Name: Emilio, dtype: float64"
      ]
     },
     "execution_count": 27,
     "metadata": {},
     "output_type": "execute_result"
    }
   ],
   "source": [
    "df.loc[\"Emilio\"]"
   ]
  },
  {
   "cell_type": "code",
   "execution_count": 28,
   "id": "ca31ca81-e634-447c-a7c1-ceb483a524b1",
   "metadata": {},
   "outputs": [
    {
     "data": {
      "text/html": [
       "<div>\n",
       "<style scoped>\n",
       "    .dataframe tbody tr th:only-of-type {\n",
       "        vertical-align: middle;\n",
       "    }\n",
       "\n",
       "    .dataframe tbody tr th {\n",
       "        vertical-align: top;\n",
       "    }\n",
       "\n",
       "    .dataframe thead th {\n",
       "        text-align: right;\n",
       "    }\n",
       "</style>\n",
       "<table border=\"1\" class=\"dataframe\">\n",
       "  <thead>\n",
       "    <tr style=\"text-align: right;\">\n",
       "      <th></th>\n",
       "      <th>Peso</th>\n",
       "      <th>Altura</th>\n",
       "      <th>Mascotas</th>\n",
       "    </tr>\n",
       "  </thead>\n",
       "  <tbody>\n",
       "    <tr>\n",
       "      <th>Emilio</th>\n",
       "      <td>72</td>\n",
       "      <td>169</td>\n",
       "      <td>NaN</td>\n",
       "    </tr>\n",
       "    <tr>\n",
       "      <th>Jesus</th>\n",
       "      <td>74</td>\n",
       "      <td>170</td>\n",
       "      <td>NaN</td>\n",
       "    </tr>\n",
       "  </tbody>\n",
       "</table>\n",
       "</div>"
      ],
      "text/plain": [
       "        Peso  Altura  Mascotas\n",
       "Emilio    72     169       NaN\n",
       "Jesus     74     170       NaN"
      ]
     },
     "execution_count": 28,
     "metadata": {},
     "output_type": "execute_result"
    }
   ],
   "source": [
    "df.iloc[1:3]"
   ]
  },
  {
   "cell_type": "markdown",
   "id": "d1a8a5e2-215e-4285-a45a-ac006d10582b",
   "metadata": {},
   "source": [
    "## Consulta avanzada de los elementos de un DataFrame"
   ]
  },
  {
   "cell_type": "code",
   "execution_count": 29,
   "id": "d5b87c09-6706-4d0d-8f9d-0b446cf06e60",
   "metadata": {},
   "outputs": [
    {
     "data": {
      "text/html": [
       "<div>\n",
       "<style scoped>\n",
       "    .dataframe tbody tr th:only-of-type {\n",
       "        vertical-align: middle;\n",
       "    }\n",
       "\n",
       "    .dataframe tbody tr th {\n",
       "        vertical-align: top;\n",
       "    }\n",
       "\n",
       "    .dataframe thead th {\n",
       "        text-align: right;\n",
       "    }\n",
       "</style>\n",
       "<table border=\"1\" class=\"dataframe\">\n",
       "  <thead>\n",
       "    <tr style=\"text-align: right;\">\n",
       "      <th></th>\n",
       "      <th>Peso</th>\n",
       "      <th>Altura</th>\n",
       "      <th>Mascotas</th>\n",
       "    </tr>\n",
       "  </thead>\n",
       "  <tbody>\n",
       "    <tr>\n",
       "      <th>Anel</th>\n",
       "      <td>60</td>\n",
       "      <td>145</td>\n",
       "      <td>2.0</td>\n",
       "    </tr>\n",
       "    <tr>\n",
       "      <th>Emilio</th>\n",
       "      <td>72</td>\n",
       "      <td>169</td>\n",
       "      <td>NaN</td>\n",
       "    </tr>\n",
       "    <tr>\n",
       "      <th>Jesus</th>\n",
       "      <td>74</td>\n",
       "      <td>170</td>\n",
       "      <td>NaN</td>\n",
       "    </tr>\n",
       "    <tr>\n",
       "      <th>Jocelin</th>\n",
       "      <td>73</td>\n",
       "      <td>170</td>\n",
       "      <td>9.0</td>\n",
       "    </tr>\n",
       "  </tbody>\n",
       "</table>\n",
       "</div>"
      ],
      "text/plain": [
       "         Peso  Altura  Mascotas\n",
       "Anel       60     145       2.0\n",
       "Emilio     72     169       NaN\n",
       "Jesus      74     170       NaN\n",
       "Jocelin    73     170       9.0"
      ]
     },
     "execution_count": 29,
     "metadata": {},
     "output_type": "execute_result"
    }
   ],
   "source": [
    "# Mostrar el DataFrame\n",
    "df"
   ]
  },
  {
   "cell_type": "code",
   "execution_count": 30,
   "id": "9d6915d0-b389-4f12-a553-d16b3507eb9d",
   "metadata": {},
   "outputs": [
    {
     "data": {
      "text/html": [
       "<div>\n",
       "<style scoped>\n",
       "    .dataframe tbody tr th:only-of-type {\n",
       "        vertical-align: middle;\n",
       "    }\n",
       "\n",
       "    .dataframe tbody tr th {\n",
       "        vertical-align: top;\n",
       "    }\n",
       "\n",
       "    .dataframe thead th {\n",
       "        text-align: right;\n",
       "    }\n",
       "</style>\n",
       "<table border=\"1\" class=\"dataframe\">\n",
       "  <thead>\n",
       "    <tr style=\"text-align: right;\">\n",
       "      <th></th>\n",
       "      <th>Peso</th>\n",
       "      <th>Altura</th>\n",
       "      <th>Mascotas</th>\n",
       "    </tr>\n",
       "  </thead>\n",
       "  <tbody>\n",
       "    <tr>\n",
       "      <th>Jesus</th>\n",
       "      <td>74</td>\n",
       "      <td>170</td>\n",
       "      <td>NaN</td>\n",
       "    </tr>\n",
       "  </tbody>\n",
       "</table>\n",
       "</div>"
      ],
      "text/plain": [
       "       Peso  Altura  Mascotas\n",
       "Jesus    74     170       NaN"
      ]
     },
     "execution_count": 30,
     "metadata": {},
     "output_type": "execute_result"
    }
   ],
   "source": [
    "# Consultas avanzadas\n",
    "df.query(\"Altura >= 170 and Peso > 73\")"
   ]
  },
  {
   "cell_type": "markdown",
   "id": "25761c2b-ae03-48d6-905a-e1dbee3bc4ba",
   "metadata": {},
   "source": [
    "## Copiar un DataFrame"
   ]
  },
  {
   "cell_type": "code",
   "execution_count": 31,
   "id": "d372dca5-4406-4c25-ae04-e11e08340d25",
   "metadata": {},
   "outputs": [
    {
     "data": {
      "text/html": [
       "<div>\n",
       "<style scoped>\n",
       "    .dataframe tbody tr th:only-of-type {\n",
       "        vertical-align: middle;\n",
       "    }\n",
       "\n",
       "    .dataframe tbody tr th {\n",
       "        vertical-align: top;\n",
       "    }\n",
       "\n",
       "    .dataframe thead th {\n",
       "        text-align: right;\n",
       "    }\n",
       "</style>\n",
       "<table border=\"1\" class=\"dataframe\">\n",
       "  <thead>\n",
       "    <tr style=\"text-align: right;\">\n",
       "      <th></th>\n",
       "      <th>Peso</th>\n",
       "      <th>Altura</th>\n",
       "      <th>Mascotas</th>\n",
       "    </tr>\n",
       "  </thead>\n",
       "  <tbody>\n",
       "    <tr>\n",
       "      <th>Anel</th>\n",
       "      <td>60</td>\n",
       "      <td>145</td>\n",
       "      <td>2.0</td>\n",
       "    </tr>\n",
       "    <tr>\n",
       "      <th>Emilio</th>\n",
       "      <td>72</td>\n",
       "      <td>169</td>\n",
       "      <td>NaN</td>\n",
       "    </tr>\n",
       "    <tr>\n",
       "      <th>Jesus</th>\n",
       "      <td>74</td>\n",
       "      <td>170</td>\n",
       "      <td>NaN</td>\n",
       "    </tr>\n",
       "    <tr>\n",
       "      <th>Jocelin</th>\n",
       "      <td>73</td>\n",
       "      <td>170</td>\n",
       "      <td>9.0</td>\n",
       "    </tr>\n",
       "  </tbody>\n",
       "</table>\n",
       "</div>"
      ],
      "text/plain": [
       "         Peso  Altura  Mascotas\n",
       "Anel       60     145       2.0\n",
       "Emilio     72     169       NaN\n",
       "Jesus      74     170       NaN\n",
       "Jocelin    73     170       9.0"
      ]
     },
     "execution_count": 31,
     "metadata": {},
     "output_type": "execute_result"
    }
   ],
   "source": [
    "# Crear un DataFrame e Inicializarlo con un diccionario de objetos Series\n",
    "Personas = {\n",
    "\n",
    "    \"Peso\": pd.Series([72, 60, 74, 73], [\"Emilio\", \"Anel\", \"Jesus\", \"Jocelin\"]),\n",
    "    \"Altura\": pd.Series({\"Emilio\": 169, \"Anel\": 145, \"Jesus\": 170, \"Jocelin\": 170}),\n",
    "    \"Mascotas\": pd.Series([2, 9], [\"Anel\", \"Jocelin\"]) \n",
    "}\n",
    "\n",
    "df = pd.DataFrame(Personas)\n",
    "df"
   ]
  },
  {
   "cell_type": "code",
   "execution_count": 32,
   "id": "c61b0c6c-a9c2-42e7-9cce-3d9f127f9136",
   "metadata": {},
   "outputs": [],
   "source": [
    "# Copia del DataFrame df en df_copy\n",
    "# NOTA: Al modificar un elemento del df_copy no se modifica df\n",
    "df_copy = df.copy()"
   ]
  },
  {
   "cell_type": "markdown",
   "id": "1be55996-ee0e-41d4-871e-3b4f65a10487",
   "metadata": {},
   "source": [
    "## Modificación de un DataFrame"
   ]
  },
  {
   "cell_type": "code",
   "execution_count": 33,
   "id": "1c23213e-1960-4524-9b85-b738c0483741",
   "metadata": {},
   "outputs": [
    {
     "data": {
      "text/html": [
       "<div>\n",
       "<style scoped>\n",
       "    .dataframe tbody tr th:only-of-type {\n",
       "        vertical-align: middle;\n",
       "    }\n",
       "\n",
       "    .dataframe tbody tr th {\n",
       "        vertical-align: top;\n",
       "    }\n",
       "\n",
       "    .dataframe thead th {\n",
       "        text-align: right;\n",
       "    }\n",
       "</style>\n",
       "<table border=\"1\" class=\"dataframe\">\n",
       "  <thead>\n",
       "    <tr style=\"text-align: right;\">\n",
       "      <th></th>\n",
       "      <th>Peso</th>\n",
       "      <th>Altura</th>\n",
       "      <th>Mascotas</th>\n",
       "      <th>Anio_Nac</th>\n",
       "    </tr>\n",
       "  </thead>\n",
       "  <tbody>\n",
       "    <tr>\n",
       "      <th>Anel</th>\n",
       "      <td>60</td>\n",
       "      <td>145</td>\n",
       "      <td>2.0</td>\n",
       "      <td>2004</td>\n",
       "    </tr>\n",
       "    <tr>\n",
       "      <th>Emilio</th>\n",
       "      <td>72</td>\n",
       "      <td>169</td>\n",
       "      <td>NaN</td>\n",
       "      <td>2004</td>\n",
       "    </tr>\n",
       "    <tr>\n",
       "      <th>Jesus</th>\n",
       "      <td>74</td>\n",
       "      <td>170</td>\n",
       "      <td>NaN</td>\n",
       "      <td>2004</td>\n",
       "    </tr>\n",
       "    <tr>\n",
       "      <th>Jocelin</th>\n",
       "      <td>73</td>\n",
       "      <td>170</td>\n",
       "      <td>9.0</td>\n",
       "      <td>2004</td>\n",
       "    </tr>\n",
       "  </tbody>\n",
       "</table>\n",
       "</div>"
      ],
      "text/plain": [
       "         Peso  Altura  Mascotas  Anio_Nac\n",
       "Anel       60     145       2.0      2004\n",
       "Emilio     72     169       NaN      2004\n",
       "Jesus      74     170       NaN      2004\n",
       "Jocelin    73     170       9.0      2004"
      ]
     },
     "execution_count": 33,
     "metadata": {},
     "output_type": "execute_result"
    }
   ],
   "source": [
    "# Añadir una nueva columna la DataFrame\n",
    "df[\"Anio_Nac\"] = [2004, 2004, 2004, 2004]\n",
    "df"
   ]
  },
  {
   "cell_type": "code",
   "execution_count": 34,
   "id": "13af98d0-3399-4367-b722-ac496198b399",
   "metadata": {},
   "outputs": [
    {
     "data": {
      "text/html": [
       "<div>\n",
       "<style scoped>\n",
       "    .dataframe tbody tr th:only-of-type {\n",
       "        vertical-align: middle;\n",
       "    }\n",
       "\n",
       "    .dataframe tbody tr th {\n",
       "        vertical-align: top;\n",
       "    }\n",
       "\n",
       "    .dataframe thead th {\n",
       "        text-align: right;\n",
       "    }\n",
       "</style>\n",
       "<table border=\"1\" class=\"dataframe\">\n",
       "  <thead>\n",
       "    <tr style=\"text-align: right;\">\n",
       "      <th></th>\n",
       "      <th>Peso</th>\n",
       "      <th>Altura</th>\n",
       "      <th>Mascotas</th>\n",
       "      <th>Anio_Nac</th>\n",
       "      <th>Edad</th>\n",
       "    </tr>\n",
       "  </thead>\n",
       "  <tbody>\n",
       "    <tr>\n",
       "      <th>Anel</th>\n",
       "      <td>60</td>\n",
       "      <td>145</td>\n",
       "      <td>2.0</td>\n",
       "      <td>2004</td>\n",
       "      <td>20</td>\n",
       "    </tr>\n",
       "    <tr>\n",
       "      <th>Emilio</th>\n",
       "      <td>72</td>\n",
       "      <td>169</td>\n",
       "      <td>NaN</td>\n",
       "      <td>2004</td>\n",
       "      <td>20</td>\n",
       "    </tr>\n",
       "    <tr>\n",
       "      <th>Jesus</th>\n",
       "      <td>74</td>\n",
       "      <td>170</td>\n",
       "      <td>NaN</td>\n",
       "      <td>2004</td>\n",
       "      <td>20</td>\n",
       "    </tr>\n",
       "    <tr>\n",
       "      <th>Jocelin</th>\n",
       "      <td>73</td>\n",
       "      <td>170</td>\n",
       "      <td>9.0</td>\n",
       "      <td>2004</td>\n",
       "      <td>20</td>\n",
       "    </tr>\n",
       "  </tbody>\n",
       "</table>\n",
       "</div>"
      ],
      "text/plain": [
       "         Peso  Altura  Mascotas  Anio_Nac  Edad\n",
       "Anel       60     145       2.0      2004    20\n",
       "Emilio     72     169       NaN      2004    20\n",
       "Jesus      74     170       NaN      2004    20\n",
       "Jocelin    73     170       9.0      2004    20"
      ]
     },
     "execution_count": 34,
     "metadata": {},
     "output_type": "execute_result"
    }
   ],
   "source": [
    "# Añadir una nueva columna calculada al DataFrame\n",
    "df[\"Edad\"] = 2024 - df[\"Anio_Nac\"]\n",
    "df"
   ]
  },
  {
   "cell_type": "code",
   "execution_count": 35,
   "id": "79447782-65c1-4cc4-bf1d-aab0fd593e68",
   "metadata": {},
   "outputs": [
    {
     "data": {
      "text/html": [
       "<div>\n",
       "<style scoped>\n",
       "    .dataframe tbody tr th:only-of-type {\n",
       "        vertical-align: middle;\n",
       "    }\n",
       "\n",
       "    .dataframe tbody tr th {\n",
       "        vertical-align: top;\n",
       "    }\n",
       "\n",
       "    .dataframe thead th {\n",
       "        text-align: right;\n",
       "    }\n",
       "</style>\n",
       "<table border=\"1\" class=\"dataframe\">\n",
       "  <thead>\n",
       "    <tr style=\"text-align: right;\">\n",
       "      <th></th>\n",
       "      <th>Peso</th>\n",
       "      <th>Altura</th>\n",
       "      <th>Mascotas</th>\n",
       "      <th>Anio_Nac</th>\n",
       "      <th>Edad</th>\n",
       "      <th>Hijos</th>\n",
       "    </tr>\n",
       "  </thead>\n",
       "  <tbody>\n",
       "    <tr>\n",
       "      <th>Anel</th>\n",
       "      <td>60</td>\n",
       "      <td>145</td>\n",
       "      <td>2.0</td>\n",
       "      <td>2004</td>\n",
       "      <td>20</td>\n",
       "      <td>2</td>\n",
       "    </tr>\n",
       "    <tr>\n",
       "      <th>Emilio</th>\n",
       "      <td>72</td>\n",
       "      <td>169</td>\n",
       "      <td>NaN</td>\n",
       "      <td>2004</td>\n",
       "      <td>20</td>\n",
       "      <td>1</td>\n",
       "    </tr>\n",
       "    <tr>\n",
       "      <th>Jesus</th>\n",
       "      <td>74</td>\n",
       "      <td>170</td>\n",
       "      <td>NaN</td>\n",
       "      <td>2004</td>\n",
       "      <td>20</td>\n",
       "      <td>2</td>\n",
       "    </tr>\n",
       "    <tr>\n",
       "      <th>Jocelin</th>\n",
       "      <td>73</td>\n",
       "      <td>170</td>\n",
       "      <td>9.0</td>\n",
       "      <td>2004</td>\n",
       "      <td>20</td>\n",
       "      <td>1</td>\n",
       "    </tr>\n",
       "  </tbody>\n",
       "</table>\n",
       "</div>"
      ],
      "text/plain": [
       "         Peso  Altura  Mascotas  Anio_Nac  Edad  Hijos\n",
       "Anel       60     145       2.0      2004    20      2\n",
       "Emilio     72     169       NaN      2004    20      1\n",
       "Jesus      74     170       NaN      2004    20      2\n",
       "Jocelin    73     170       9.0      2004    20      1"
      ]
     },
     "execution_count": 35,
     "metadata": {},
     "output_type": "execute_result"
    }
   ],
   "source": [
    "# Añadir una nueva columna creando un DataFrame nuevo.\n",
    "df_mod = df.assign(Hijos = [2, 1, 2, 1])\n",
    "df_mod"
   ]
  },
  {
   "cell_type": "code",
   "execution_count": 36,
   "id": "7be7b051-e829-4d66-b8f6-7193d21582e4",
   "metadata": {},
   "outputs": [
    {
     "data": {
      "text/html": [
       "<div>\n",
       "<style scoped>\n",
       "    .dataframe tbody tr th:only-of-type {\n",
       "        vertical-align: middle;\n",
       "    }\n",
       "\n",
       "    .dataframe tbody tr th {\n",
       "        vertical-align: top;\n",
       "    }\n",
       "\n",
       "    .dataframe thead th {\n",
       "        text-align: right;\n",
       "    }\n",
       "</style>\n",
       "<table border=\"1\" class=\"dataframe\">\n",
       "  <thead>\n",
       "    <tr style=\"text-align: right;\">\n",
       "      <th></th>\n",
       "      <th>Peso</th>\n",
       "      <th>Altura</th>\n",
       "      <th>Mascotas</th>\n",
       "      <th>Anio_Nac</th>\n",
       "      <th>Edad</th>\n",
       "    </tr>\n",
       "  </thead>\n",
       "  <tbody>\n",
       "    <tr>\n",
       "      <th>Anel</th>\n",
       "      <td>60</td>\n",
       "      <td>145</td>\n",
       "      <td>2.0</td>\n",
       "      <td>2004</td>\n",
       "      <td>20</td>\n",
       "    </tr>\n",
       "    <tr>\n",
       "      <th>Emilio</th>\n",
       "      <td>72</td>\n",
       "      <td>169</td>\n",
       "      <td>NaN</td>\n",
       "      <td>2004</td>\n",
       "      <td>20</td>\n",
       "    </tr>\n",
       "    <tr>\n",
       "      <th>Jesus</th>\n",
       "      <td>74</td>\n",
       "      <td>170</td>\n",
       "      <td>NaN</td>\n",
       "      <td>2004</td>\n",
       "      <td>20</td>\n",
       "    </tr>\n",
       "    <tr>\n",
       "      <th>Jocelin</th>\n",
       "      <td>73</td>\n",
       "      <td>170</td>\n",
       "      <td>9.0</td>\n",
       "      <td>2004</td>\n",
       "      <td>20</td>\n",
       "    </tr>\n",
       "  </tbody>\n",
       "</table>\n",
       "</div>"
      ],
      "text/plain": [
       "         Peso  Altura  Mascotas  Anio_Nac  Edad\n",
       "Anel       60     145       2.0      2004    20\n",
       "Emilio     72     169       NaN      2004    20\n",
       "Jesus      74     170       NaN      2004    20\n",
       "Jocelin    73     170       9.0      2004    20"
      ]
     },
     "execution_count": 36,
     "metadata": {},
     "output_type": "execute_result"
    }
   ],
   "source": [
    "df"
   ]
  },
  {
   "cell_type": "code",
   "execution_count": 37,
   "id": "81b7d2c2-92f7-44c5-ad5b-fdd0509542f3",
   "metadata": {},
   "outputs": [
    {
     "data": {
      "text/html": [
       "<div>\n",
       "<style scoped>\n",
       "    .dataframe tbody tr th:only-of-type {\n",
       "        vertical-align: middle;\n",
       "    }\n",
       "\n",
       "    .dataframe tbody tr th {\n",
       "        vertical-align: top;\n",
       "    }\n",
       "\n",
       "    .dataframe thead th {\n",
       "        text-align: right;\n",
       "    }\n",
       "</style>\n",
       "<table border=\"1\" class=\"dataframe\">\n",
       "  <thead>\n",
       "    <tr style=\"text-align: right;\">\n",
       "      <th></th>\n",
       "      <th>Altura</th>\n",
       "      <th>Mascotas</th>\n",
       "      <th>Anio_Nac</th>\n",
       "      <th>Edad</th>\n",
       "    </tr>\n",
       "  </thead>\n",
       "  <tbody>\n",
       "    <tr>\n",
       "      <th>Anel</th>\n",
       "      <td>145</td>\n",
       "      <td>2.0</td>\n",
       "      <td>2004</td>\n",
       "      <td>20</td>\n",
       "    </tr>\n",
       "    <tr>\n",
       "      <th>Emilio</th>\n",
       "      <td>169</td>\n",
       "      <td>NaN</td>\n",
       "      <td>2004</td>\n",
       "      <td>20</td>\n",
       "    </tr>\n",
       "    <tr>\n",
       "      <th>Jesus</th>\n",
       "      <td>170</td>\n",
       "      <td>NaN</td>\n",
       "      <td>2004</td>\n",
       "      <td>20</td>\n",
       "    </tr>\n",
       "    <tr>\n",
       "      <th>Jocelin</th>\n",
       "      <td>170</td>\n",
       "      <td>9.0</td>\n",
       "      <td>2004</td>\n",
       "      <td>20</td>\n",
       "    </tr>\n",
       "  </tbody>\n",
       "</table>\n",
       "</div>"
      ],
      "text/plain": [
       "         Altura  Mascotas  Anio_Nac  Edad\n",
       "Anel        145       2.0      2004    20\n",
       "Emilio      169       NaN      2004    20\n",
       "Jesus       170       NaN      2004    20\n",
       "Jocelin     170       9.0      2004    20"
      ]
     },
     "execution_count": 37,
     "metadata": {},
     "output_type": "execute_result"
    }
   ],
   "source": [
    "# Eliminar una columna existente del DataFrame\n",
    "del df [\"Peso\"]\n",
    "df"
   ]
  },
  {
   "cell_type": "code",
   "execution_count": 38,
   "id": "b839e57b-eff4-4a1b-8515-05a5ffc0d71c",
   "metadata": {},
   "outputs": [
    {
     "data": {
      "text/html": [
       "<div>\n",
       "<style scoped>\n",
       "    .dataframe tbody tr th:only-of-type {\n",
       "        vertical-align: middle;\n",
       "    }\n",
       "\n",
       "    .dataframe tbody tr th {\n",
       "        vertical-align: top;\n",
       "    }\n",
       "\n",
       "    .dataframe thead th {\n",
       "        text-align: right;\n",
       "    }\n",
       "</style>\n",
       "<table border=\"1\" class=\"dataframe\">\n",
       "  <thead>\n",
       "    <tr style=\"text-align: right;\">\n",
       "      <th></th>\n",
       "      <th>Peso</th>\n",
       "      <th>Altura</th>\n",
       "      <th>Mascotas</th>\n",
       "      <th>Anio_Nac</th>\n",
       "      <th>Edad</th>\n",
       "    </tr>\n",
       "  </thead>\n",
       "  <tbody>\n",
       "    <tr>\n",
       "      <th>Anel</th>\n",
       "      <td>60</td>\n",
       "      <td>145</td>\n",
       "      <td>2.0</td>\n",
       "      <td>2004</td>\n",
       "      <td>20</td>\n",
       "    </tr>\n",
       "    <tr>\n",
       "      <th>Emilio</th>\n",
       "      <td>72</td>\n",
       "      <td>169</td>\n",
       "      <td>NaN</td>\n",
       "      <td>2004</td>\n",
       "      <td>20</td>\n",
       "    </tr>\n",
       "    <tr>\n",
       "      <th>Jesus</th>\n",
       "      <td>74</td>\n",
       "      <td>170</td>\n",
       "      <td>NaN</td>\n",
       "      <td>2004</td>\n",
       "      <td>20</td>\n",
       "    </tr>\n",
       "    <tr>\n",
       "      <th>Jocelin</th>\n",
       "      <td>73</td>\n",
       "      <td>170</td>\n",
       "      <td>9.0</td>\n",
       "      <td>2004</td>\n",
       "      <td>20</td>\n",
       "    </tr>\n",
       "  </tbody>\n",
       "</table>\n",
       "</div>"
      ],
      "text/plain": [
       "         Peso  Altura  Mascotas  Anio_Nac  Edad\n",
       "Anel       60     145       2.0      2004    20\n",
       "Emilio     72     169       NaN      2004    20\n",
       "Jesus      74     170       NaN      2004    20\n",
       "Jocelin    73     170       9.0      2004    20"
      ]
     },
     "execution_count": 38,
     "metadata": {},
     "output_type": "execute_result"
    }
   ],
   "source": [
    "# Eliminar una columna existente devolviendo una copia del DataFRame resultante.\n",
    "df_mod = df_mod.drop([\"Hijos\"], axis = 1)\n",
    "df_mod"
   ]
  },
  {
   "cell_type": "code",
   "execution_count": 39,
   "id": "761282d5-5089-4e99-ae24-49583f6f9c72",
   "metadata": {},
   "outputs": [
    {
     "data": {
      "text/html": [
       "<div>\n",
       "<style scoped>\n",
       "    .dataframe tbody tr th:only-of-type {\n",
       "        vertical-align: middle;\n",
       "    }\n",
       "\n",
       "    .dataframe tbody tr th {\n",
       "        vertical-align: top;\n",
       "    }\n",
       "\n",
       "    .dataframe thead th {\n",
       "        text-align: right;\n",
       "    }\n",
       "</style>\n",
       "<table border=\"1\" class=\"dataframe\">\n",
       "  <thead>\n",
       "    <tr style=\"text-align: right;\">\n",
       "      <th></th>\n",
       "      <th>Altura</th>\n",
       "      <th>Mascotas</th>\n",
       "      <th>Anio_Nac</th>\n",
       "      <th>Edad</th>\n",
       "    </tr>\n",
       "  </thead>\n",
       "  <tbody>\n",
       "    <tr>\n",
       "      <th>Anel</th>\n",
       "      <td>145</td>\n",
       "      <td>2.0</td>\n",
       "      <td>2004</td>\n",
       "      <td>20</td>\n",
       "    </tr>\n",
       "    <tr>\n",
       "      <th>Emilio</th>\n",
       "      <td>169</td>\n",
       "      <td>NaN</td>\n",
       "      <td>2004</td>\n",
       "      <td>20</td>\n",
       "    </tr>\n",
       "    <tr>\n",
       "      <th>Jesus</th>\n",
       "      <td>170</td>\n",
       "      <td>NaN</td>\n",
       "      <td>2004</td>\n",
       "      <td>20</td>\n",
       "    </tr>\n",
       "    <tr>\n",
       "      <th>Jocelin</th>\n",
       "      <td>170</td>\n",
       "      <td>9.0</td>\n",
       "      <td>2004</td>\n",
       "      <td>20</td>\n",
       "    </tr>\n",
       "  </tbody>\n",
       "</table>\n",
       "</div>"
      ],
      "text/plain": [
       "         Altura  Mascotas  Anio_Nac  Edad\n",
       "Anel        145       2.0      2004    20\n",
       "Emilio      169       NaN      2004    20\n",
       "Jesus       170       NaN      2004    20\n",
       "Jocelin     170       9.0      2004    20"
      ]
     },
     "execution_count": 39,
     "metadata": {},
     "output_type": "execute_result"
    }
   ],
   "source": [
    "df"
   ]
  },
  {
   "cell_type": "markdown",
   "id": "38517089-4b9b-466d-b44e-0e36b679035b",
   "metadata": {},
   "source": [
    "## Evaluación de expresiones sobre un DataFrame"
   ]
  },
  {
   "cell_type": "code",
   "execution_count": 40,
   "id": "b18c5c9f-dae9-4c5d-b327-19a70f8c0ebc",
   "metadata": {},
   "outputs": [
    {
     "data": {
      "text/html": [
       "<div>\n",
       "<style scoped>\n",
       "    .dataframe tbody tr th:only-of-type {\n",
       "        vertical-align: middle;\n",
       "    }\n",
       "\n",
       "    .dataframe tbody tr th {\n",
       "        vertical-align: top;\n",
       "    }\n",
       "\n",
       "    .dataframe thead th {\n",
       "        text-align: right;\n",
       "    }\n",
       "</style>\n",
       "<table border=\"1\" class=\"dataframe\">\n",
       "  <thead>\n",
       "    <tr style=\"text-align: right;\">\n",
       "      <th></th>\n",
       "      <th>Peso</th>\n",
       "      <th>Altura</th>\n",
       "      <th>Mascotas</th>\n",
       "    </tr>\n",
       "  </thead>\n",
       "  <tbody>\n",
       "    <tr>\n",
       "      <th>Anel</th>\n",
       "      <td>60</td>\n",
       "      <td>145</td>\n",
       "      <td>2.0</td>\n",
       "    </tr>\n",
       "    <tr>\n",
       "      <th>Emilio</th>\n",
       "      <td>72</td>\n",
       "      <td>169</td>\n",
       "      <td>NaN</td>\n",
       "    </tr>\n",
       "    <tr>\n",
       "      <th>Jesus</th>\n",
       "      <td>74</td>\n",
       "      <td>170</td>\n",
       "      <td>NaN</td>\n",
       "    </tr>\n",
       "    <tr>\n",
       "      <th>Jocelin</th>\n",
       "      <td>73</td>\n",
       "      <td>170</td>\n",
       "      <td>9.0</td>\n",
       "    </tr>\n",
       "  </tbody>\n",
       "</table>\n",
       "</div>"
      ],
      "text/plain": [
       "         Peso  Altura  Mascotas\n",
       "Anel       60     145       2.0\n",
       "Emilio     72     169       NaN\n",
       "Jesus      74     170       NaN\n",
       "Jocelin    73     170       9.0"
      ]
     },
     "execution_count": 40,
     "metadata": {},
     "output_type": "execute_result"
    }
   ],
   "source": [
    "# Crear un DataFrame e inicializarlo con un diccionario de objetos Series.\n",
    "Personas = {\n",
    "\n",
    "    \"Peso\": pd.Series([72, 60, 74, 73], [\"Emilio\", \"Anel\", \"Jesus\", \"Jocelin\"]),\n",
    "    \"Altura\": pd.Series({\"Emilio\": 169, \"Anel\": 145, \"Jesus\": 170, \"Jocelin\": 170}),\n",
    "    \"Mascotas\": pd.Series([2, 9], [\"Anel\", \"Jocelin\"]) \n",
    "}\n",
    "\n",
    "df = pd.DataFrame(Personas)\n",
    "df"
   ]
  },
  {
   "cell_type": "code",
   "execution_count": 41,
   "id": "7e8f0cc4-d0a3-4e35-bf9b-9a55b889e7f5",
   "metadata": {},
   "outputs": [
    {
     "data": {
      "text/plain": [
       "Anel       72.5\n",
       "Emilio     84.5\n",
       "Jesus      85.0\n",
       "Jocelin    85.0\n",
       "Name: Altura, dtype: float64"
      ]
     },
     "execution_count": 41,
     "metadata": {},
     "output_type": "execute_result"
    }
   ],
   "source": [
    "# Evaluar una funcion sobre una columna del DataFrame\n",
    "df.eval(\"Altura / 2\")"
   ]
  },
  {
   "cell_type": "code",
   "execution_count": 42,
   "id": "fddc7eee-b043-4257-a796-f364d0e41061",
   "metadata": {},
   "outputs": [
    {
     "data": {
      "text/plain": [
       "Anel       False\n",
       "Emilio      True\n",
       "Jesus       True\n",
       "Jocelin     True\n",
       "Name: Altura, dtype: bool"
      ]
     },
     "execution_count": 42,
     "metadata": {},
     "output_type": "execute_result"
    }
   ],
   "source": [
    "# Evaluar una funcion utilizando una variable local.\n",
    "max_altura = 165\n",
    "df.eval(\"Altura > @max_altura\")"
   ]
  },
  {
   "cell_type": "code",
   "execution_count": 43,
   "id": "6b73c8d7-0f2e-4ea1-8146-dc6d4d28b436",
   "metadata": {},
   "outputs": [
    {
     "data": {
      "text/plain": [
       "Anel       62\n",
       "Emilio     74\n",
       "Jesus      76\n",
       "Jocelin    75\n",
       "Name: Peso, dtype: int64"
      ]
     },
     "execution_count": 43,
     "metadata": {},
     "output_type": "execute_result"
    }
   ],
   "source": [
    "# Aplicar una funcion a una columna del DataFrame .\n",
    "def func(x):\n",
    "    return x + 2\n",
    "\n",
    "df[\"Peso\"].apply(func)"
   ]
  },
  {
   "cell_type": "markdown",
   "id": "e79a259b-ca8f-45d8-a950-f6acee5c32f9",
   "metadata": {},
   "source": [
    "## Guardar y Cargar el DataFrame"
   ]
  },
  {
   "cell_type": "code",
   "execution_count": 44,
   "id": "fad0205f-e775-46b5-9d60-ac3ac19d889f",
   "metadata": {},
   "outputs": [
    {
     "data": {
      "text/html": [
       "<div>\n",
       "<style scoped>\n",
       "    .dataframe tbody tr th:only-of-type {\n",
       "        vertical-align: middle;\n",
       "    }\n",
       "\n",
       "    .dataframe tbody tr th {\n",
       "        vertical-align: top;\n",
       "    }\n",
       "\n",
       "    .dataframe thead th {\n",
       "        text-align: right;\n",
       "    }\n",
       "</style>\n",
       "<table border=\"1\" class=\"dataframe\">\n",
       "  <thead>\n",
       "    <tr style=\"text-align: right;\">\n",
       "      <th></th>\n",
       "      <th>Peso</th>\n",
       "      <th>Altura</th>\n",
       "      <th>Mascotas</th>\n",
       "    </tr>\n",
       "  </thead>\n",
       "  <tbody>\n",
       "    <tr>\n",
       "      <th>Anel</th>\n",
       "      <td>60</td>\n",
       "      <td>145</td>\n",
       "      <td>2.0</td>\n",
       "    </tr>\n",
       "    <tr>\n",
       "      <th>Emilio</th>\n",
       "      <td>72</td>\n",
       "      <td>169</td>\n",
       "      <td>NaN</td>\n",
       "    </tr>\n",
       "    <tr>\n",
       "      <th>Jesus</th>\n",
       "      <td>74</td>\n",
       "      <td>170</td>\n",
       "      <td>NaN</td>\n",
       "    </tr>\n",
       "    <tr>\n",
       "      <th>Jocelin</th>\n",
       "      <td>73</td>\n",
       "      <td>170</td>\n",
       "      <td>9.0</td>\n",
       "    </tr>\n",
       "  </tbody>\n",
       "</table>\n",
       "</div>"
      ],
      "text/plain": [
       "         Peso  Altura  Mascotas\n",
       "Anel       60     145       2.0\n",
       "Emilio     72     169       NaN\n",
       "Jesus      74     170       NaN\n",
       "Jocelin    73     170       9.0"
      ]
     },
     "execution_count": 44,
     "metadata": {},
     "output_type": "execute_result"
    }
   ],
   "source": [
    "# Crear un DataFrame e inicializarlo con un diccionario de objetos Series.\n",
    "Personas = {\n",
    "\n",
    "    \"Peso\": pd.Series([72, 60, 74, 73], [\"Emilio\", \"Anel\", \"Jesus\", \"Jocelin\"]),\n",
    "    \"Altura\": pd.Series({\"Emilio\": 169, \"Anel\": 145, \"Jesus\": 170, \"Jocelin\": 170}),\n",
    "    \"Mascotas\": pd.Series([2, 9], [\"Anel\", \"Jocelin\"]) \n",
    "}\n",
    "\n",
    "df = pd.DataFrame(Personas)\n",
    "df"
   ]
  },
  {
   "cell_type": "code",
   "execution_count": 45,
   "id": "23929bbc-e6ed-4137-bd87-07f061f599ae",
   "metadata": {},
   "outputs": [],
   "source": [
    "# Guardar el DataFrame como CSV, HTML y JSON.\n",
    "df.to_csv(\"df_Personas.csv\")\n",
    "df.to_html(\"df_Personas.html\")\n",
    "df.to_json(\"df_Personas.json\")\n"
   ]
  },
  {
   "cell_type": "code",
   "execution_count": 46,
   "id": "2a96eaeb-be47-489f-a5c8-8a67a377f6bb",
   "metadata": {},
   "outputs": [],
   "source": [
    "# Cargar el DataFrame en Jupyter.\n",
    "df2 = pd.read_csv(\"df_Personas.csv\")"
   ]
  },
  {
   "cell_type": "code",
   "execution_count": 47,
   "id": "1473e4a5-3562-4667-b0ee-c35fb27484fa",
   "metadata": {},
   "outputs": [
    {
     "data": {
      "text/html": [
       "<div>\n",
       "<style scoped>\n",
       "    .dataframe tbody tr th:only-of-type {\n",
       "        vertical-align: middle;\n",
       "    }\n",
       "\n",
       "    .dataframe tbody tr th {\n",
       "        vertical-align: top;\n",
       "    }\n",
       "\n",
       "    .dataframe thead th {\n",
       "        text-align: right;\n",
       "    }\n",
       "</style>\n",
       "<table border=\"1\" class=\"dataframe\">\n",
       "  <thead>\n",
       "    <tr style=\"text-align: right;\">\n",
       "      <th></th>\n",
       "      <th>Unnamed: 0</th>\n",
       "      <th>Peso</th>\n",
       "      <th>Altura</th>\n",
       "      <th>Mascotas</th>\n",
       "    </tr>\n",
       "  </thead>\n",
       "  <tbody>\n",
       "    <tr>\n",
       "      <th>0</th>\n",
       "      <td>Anel</td>\n",
       "      <td>60</td>\n",
       "      <td>145</td>\n",
       "      <td>2.0</td>\n",
       "    </tr>\n",
       "    <tr>\n",
       "      <th>1</th>\n",
       "      <td>Emilio</td>\n",
       "      <td>72</td>\n",
       "      <td>169</td>\n",
       "      <td>NaN</td>\n",
       "    </tr>\n",
       "    <tr>\n",
       "      <th>2</th>\n",
       "      <td>Jesus</td>\n",
       "      <td>74</td>\n",
       "      <td>170</td>\n",
       "      <td>NaN</td>\n",
       "    </tr>\n",
       "    <tr>\n",
       "      <th>3</th>\n",
       "      <td>Jocelin</td>\n",
       "      <td>73</td>\n",
       "      <td>170</td>\n",
       "      <td>9.0</td>\n",
       "    </tr>\n",
       "  </tbody>\n",
       "</table>\n",
       "</div>"
      ],
      "text/plain": [
       "  Unnamed: 0  Peso  Altura  Mascotas\n",
       "0       Anel    60     145       2.0\n",
       "1     Emilio    72     169       NaN\n",
       "2      Jesus    74     170       NaN\n",
       "3    Jocelin    73     170       9.0"
      ]
     },
     "execution_count": 47,
     "metadata": {},
     "output_type": "execute_result"
    }
   ],
   "source": [
    "df2"
   ]
  },
  {
   "cell_type": "code",
   "execution_count": 48,
   "id": "ee79e0aa-631f-453d-8daa-f81a63d12379",
   "metadata": {},
   "outputs": [
    {
     "data": {
      "text/html": [
       "<div>\n",
       "<style scoped>\n",
       "    .dataframe tbody tr th:only-of-type {\n",
       "        vertical-align: middle;\n",
       "    }\n",
       "\n",
       "    .dataframe tbody tr th {\n",
       "        vertical-align: top;\n",
       "    }\n",
       "\n",
       "    .dataframe thead th {\n",
       "        text-align: right;\n",
       "    }\n",
       "</style>\n",
       "<table border=\"1\" class=\"dataframe\">\n",
       "  <thead>\n",
       "    <tr style=\"text-align: right;\">\n",
       "      <th></th>\n",
       "      <th>Peso</th>\n",
       "      <th>Altura</th>\n",
       "      <th>Mascotas</th>\n",
       "    </tr>\n",
       "  </thead>\n",
       "  <tbody>\n",
       "    <tr>\n",
       "      <th>Anel</th>\n",
       "      <td>60</td>\n",
       "      <td>145</td>\n",
       "      <td>2.0</td>\n",
       "    </tr>\n",
       "    <tr>\n",
       "      <th>Emilio</th>\n",
       "      <td>72</td>\n",
       "      <td>169</td>\n",
       "      <td>NaN</td>\n",
       "    </tr>\n",
       "    <tr>\n",
       "      <th>Jesus</th>\n",
       "      <td>74</td>\n",
       "      <td>170</td>\n",
       "      <td>NaN</td>\n",
       "    </tr>\n",
       "    <tr>\n",
       "      <th>Jocelin</th>\n",
       "      <td>73</td>\n",
       "      <td>170</td>\n",
       "      <td>9.0</td>\n",
       "    </tr>\n",
       "  </tbody>\n",
       "</table>\n",
       "</div>"
      ],
      "text/plain": [
       "         Peso  Altura  Mascotas\n",
       "Anel       60     145       2.0\n",
       "Emilio     72     169       NaN\n",
       "Jesus      74     170       NaN\n",
       "Jocelin    73     170       9.0"
      ]
     },
     "execution_count": 48,
     "metadata": {},
     "output_type": "execute_result"
    }
   ],
   "source": [
    "# Cargar el DataFrame con la primera columna correctamente asignada\n",
    "df2 = pd.read_csv(\"df_Personas.csv\", index_col = 0)\n",
    "df2"
   ]
  }
 ],
 "metadata": {
  "kernelspec": {
   "display_name": "Python 3 (ipykernel)",
   "language": "python",
   "name": "python3"
  },
  "language_info": {
   "codemirror_mode": {
    "name": "ipython",
    "version": 3
   },
   "file_extension": ".py",
   "mimetype": "text/x-python",
   "name": "python",
   "nbconvert_exporter": "python",
   "pygments_lexer": "ipython3",
   "version": "3.9.19"
  }
 },
 "nbformat": 4,
 "nbformat_minor": 5
}
